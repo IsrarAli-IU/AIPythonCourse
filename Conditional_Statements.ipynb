{
  "nbformat": 4,
  "nbformat_minor": 0,
  "metadata": {
    "colab": {
      "provenance": []
    },
    "kernelspec": {
      "name": "python3",
      "display_name": "Python 3"
    },
    "language_info": {
      "name": "python"
    }
  },
  "cells": [
    {
      "cell_type": "code",
      "execution_count": 13,
      "metadata": {
        "colab": {
          "base_uri": "https://localhost:8080/"
        },
        "collapsed": true,
        "id": "pe8Zt87Y2vb8",
        "outputId": "889958e0-4deb-4d82-c0c4-4ca977ab67c9"
      },
      "outputs": [
        {
          "output_type": "stream",
          "name": "stdout",
          "text": [
            "what is your age? 45\n",
            "you can vote!\n"
          ]
        }
      ],
      "source": [
        "age = int(input(\"what is your age? \"))\n",
        "\n",
        "if age >= 18:  # variable  operator variable / it should return a boolean value\n",
        "  print(\"you can vote!\")\n",
        "else:\n",
        "  print(\"you cannot vote!\")"
      ]
    },
    {
      "cell_type": "code",
      "source": [
        "num = int(input(\"Enter any number : \"))\n",
        "\n",
        "if num > 0:\n",
        "  print(\"nunmber is positive\")\n",
        "elif num == 0:\n",
        "  print(\"number is zero\")\n",
        "else:\n",
        "  print(\"number is negative\")\n"
      ],
      "metadata": {
        "colab": {
          "base_uri": "https://localhost:8080/"
        },
        "id": "hGv0Uozf4opG",
        "outputId": "512a47e8-9f1f-431b-ee5c-21293e8bfb05"
      },
      "execution_count": 11,
      "outputs": [
        {
          "output_type": "stream",
          "name": "stdout",
          "text": [
            "Enter any number : -9\n",
            "number is negative\n"
          ]
        }
      ]
    },
    {
      "cell_type": "code",
      "source": [
        "perc = int(input(\"Enter your percentage : \"))\n",
        "\n",
        "if perc >= 80:\n",
        "  print(\"Grade A+\")\n",
        "elif perc >= 70:\n",
        "  print(\"Grade A\")\n",
        "elif perc >= 60:\n",
        "  print(\"Grade B\")\n",
        "elif perc >= 50:\n",
        "  print(\"Grade C\")\n",
        "elif perc >= 40:\n",
        "  print(\"Grade D\")\n",
        "else:\n",
        "  print(\"Fail\")\n"
      ],
      "metadata": {
        "colab": {
          "base_uri": "https://localhost:8080/"
        },
        "id": "kqrK08Gx6qPi",
        "outputId": "0e372e08-d9d7-4e00-d8b7-5c4d5867bca9"
      },
      "execution_count": 16,
      "outputs": [
        {
          "output_type": "stream",
          "name": "stdout",
          "text": [
            "Enter your percentage : 25\n",
            "Fail\n"
          ]
        }
      ]
    },
    {
      "cell_type": "code",
      "source": [
        "number = int(input(\"Enter any number : \"))\n",
        "\n",
        "if number % 2 == 0:\n",
        "  print(\"number is even\")\n",
        "else:\n",
        "  print(\"number is odd\")\n"
      ],
      "metadata": {
        "colab": {
          "base_uri": "https://localhost:8080/"
        },
        "id": "newHTqyA7eiQ",
        "outputId": "8836faa2-b5ee-4502-e1e3-be3806983480"
      },
      "execution_count": 18,
      "outputs": [
        {
          "output_type": "stream",
          "name": "stdout",
          "text": [
            "Enter any number : 56\n",
            "number is even\n"
          ]
        }
      ]
    },
    {
      "cell_type": "code",
      "source": [
        "username = input(\"Enter username\")\n",
        "userpass = input(\"Enter password\")\n",
        "\n",
        "if username == \"admin\" and userpass == \"1234\":\n",
        "    print(\"Access granted\")\n",
        "else:\n",
        "    print(\"Invalid credentials\")"
      ],
      "metadata": {
        "colab": {
          "base_uri": "https://localhost:8080/"
        },
        "id": "50QGnzBT8hlJ",
        "outputId": "8145d973-d01c-445f-d23d-617dcd16b0d9"
      },
      "execution_count": 20,
      "outputs": [
        {
          "output_type": "stream",
          "name": "stdout",
          "text": [
            "Enter usernameadmin\n",
            "Enter password1234\n",
            "Access granted\n"
          ]
        }
      ]
    },
    {
      "cell_type": "code",
      "source": [
        "player1 = input(\"Player1 (rock / paper / scissors) : \")\n",
        "player2 = input(\"Player2 (rock / paper / scissors) : \")\n",
        "\n",
        "if player1 == player2:\n",
        "  print(\"Its a tie!\")\n",
        "elif (player1 == \"rock\" and player2 == \"scissors\") or (player1 == \"paper\" and player2 == \" rock\") or (player1 == \"scissors\" and player2 == \"paper\"):\n",
        "  print(\"Player1 wins!\")\n",
        "else:\n",
        "  print(\"Player2 wins!\")\n",
        "\n"
      ],
      "metadata": {
        "colab": {
          "base_uri": "https://localhost:8080/"
        },
        "id": "a-BbczYT9Z9p",
        "outputId": "9a8b653e-8cb9-4d5e-bf20-3cbaa252f4e5"
      },
      "execution_count": 23,
      "outputs": [
        {
          "output_type": "stream",
          "name": "stdout",
          "text": [
            "Player1 (rock / paper / scissors) : rock\n",
            "Player2 (rock / paper / scissors) : rock\n",
            "Its a tie!\n"
          ]
        }
      ]
    }
  ]
}