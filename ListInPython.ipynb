{
  "nbformat": 4,
  "nbformat_minor": 0,
  "metadata": {
    "colab": {
      "provenance": []
    },
    "kernelspec": {
      "name": "python3",
      "display_name": "Python 3"
    },
    "language_info": {
      "name": "python"
    }
  },
  "cells": [
    {
      "cell_type": "markdown",
      "source": [
        "#List\n",
        "- Ordered\n",
        "- Changeable\n",
        "- Allows Duplicates\n"
      ],
      "metadata": {
        "id": "UesrtBOm5VMK"
      }
    },
    {
      "cell_type": "code",
      "execution_count": 1,
      "metadata": {
        "colab": {
          "base_uri": "https://localhost:8080/"
        },
        "id": "_8rU3wkS5PxV",
        "outputId": "268765f1-a7ec-450b-93f8-0979a36424c4"
      },
      "outputs": [
        {
          "output_type": "stream",
          "name": "stdout",
          "text": [
            "['Maths', 'Python', 'AI', 'English']\n"
          ]
        }
      ],
      "source": [
        "subjects = [\"Maths\", \"Python\", \"AI\", \"English\"]\n",
        "\n",
        "print(subjects)"
      ]
    },
    {
      "cell_type": "code",
      "source": [
        "print(subjects[3])"
      ],
      "metadata": {
        "colab": {
          "base_uri": "https://localhost:8080/"
        },
        "id": "UKN3lMKI56gY",
        "outputId": "529a6a9d-8bc0-47c8-b96d-fefceef95b98"
      },
      "execution_count": 5,
      "outputs": [
        {
          "output_type": "stream",
          "name": "stdout",
          "text": [
            "English\n"
          ]
        }
      ]
    },
    {
      "cell_type": "code",
      "source": [
        "print(subjects[-1])"
      ],
      "metadata": {
        "colab": {
          "base_uri": "https://localhost:8080/"
        },
        "id": "yXp5Fxw-6a6a",
        "outputId": "6bc70505-ae22-42b3-9c79-33b6748ed882"
      },
      "execution_count": 6,
      "outputs": [
        {
          "output_type": "stream",
          "name": "stdout",
          "text": [
            "English\n"
          ]
        }
      ]
    },
    {
      "cell_type": "code",
      "source": [
        "print(len(subjects))"
      ],
      "metadata": {
        "colab": {
          "base_uri": "https://localhost:8080/"
        },
        "id": "E5gLbqpt6yy2",
        "outputId": "85b26175-20cd-4b6e-9f0e-7ff90b5e9ba1"
      },
      "execution_count": 7,
      "outputs": [
        {
          "output_type": "stream",
          "name": "stdout",
          "text": [
            "4\n"
          ]
        }
      ]
    },
    {
      "cell_type": "code",
      "source": [
        "subjects[2] = \"Java\"\n",
        "print(subjects)"
      ],
      "metadata": {
        "colab": {
          "base_uri": "https://localhost:8080/"
        },
        "id": "-Drpl06f7CWX",
        "outputId": "dabe2f46-e44c-4cea-bc3e-d2d23ccc42ef"
      },
      "execution_count": 8,
      "outputs": [
        {
          "output_type": "stream",
          "name": "stdout",
          "text": [
            "['Maths', 'Python', 'Java', 'English']\n"
          ]
        }
      ]
    },
    {
      "cell_type": "code",
      "source": [
        "subjects.append(\"AI\")\n",
        "print(subjects)\n",
        "print(len(subjects))"
      ],
      "metadata": {
        "colab": {
          "base_uri": "https://localhost:8080/"
        },
        "id": "adBux7_m7RVW",
        "outputId": "ac7dba01-9c76-4b21-911f-f50f0aa37648"
      },
      "execution_count": 17,
      "outputs": [
        {
          "output_type": "stream",
          "name": "stdout",
          "text": [
            "['Maths', 'Python', 'Java', 'English', 'AI', 'AI', 'AI', 'AI', 'AI']\n",
            "9\n"
          ]
        }
      ]
    },
    {
      "cell_type": "code",
      "source": [
        "subjects.remove(\"AI\")\n",
        "print(subjects)"
      ],
      "metadata": {
        "colab": {
          "base_uri": "https://localhost:8080/"
        },
        "id": "GlFHYVm67dl9",
        "outputId": "923cfbd2-758d-4334-ff8c-9c213352458b"
      },
      "execution_count": 21,
      "outputs": [
        {
          "output_type": "stream",
          "name": "stdout",
          "text": [
            "['Maths', 'Python', 'Java', 'English', 'AI']\n"
          ]
        }
      ]
    },
    {
      "cell_type": "code",
      "source": [
        "for subject in subjects:\n",
        "  print(subject)"
      ],
      "metadata": {
        "colab": {
          "base_uri": "https://localhost:8080/"
        },
        "id": "uULquRKC7oIi",
        "outputId": "188e412c-58f9-4343-c1fc-213499b1d507"
      },
      "execution_count": 22,
      "outputs": [
        {
          "output_type": "stream",
          "name": "stdout",
          "text": [
            "Maths\n",
            "Python\n",
            "Java\n",
            "English\n",
            "AI\n"
          ]
        }
      ]
    },
    {
      "cell_type": "markdown",
      "source": [
        "#Tuple\n",
        "\n",
        "- Ordered\n",
        "- Unchangeable(Immutable)\n",
        "- Allows Duplicates"
      ],
      "metadata": {
        "id": "s_tvQ68U8LR9"
      }
    },
    {
      "cell_type": "code",
      "source": [
        "dob = (2003, 7, 15)  # year , month , day\n",
        "\n",
        "print(\"Data of birth\", dob)\n",
        "print(\"Birth year\", dob[0])\n",
        "print(len(dob))"
      ],
      "metadata": {
        "colab": {
          "base_uri": "https://localhost:8080/"
        },
        "id": "4LX5kiJ_8a2U",
        "outputId": "375d2bd9-2efe-440d-edaf-87518e4b9d2e"
      },
      "execution_count": 27,
      "outputs": [
        {
          "output_type": "stream",
          "name": "stdout",
          "text": [
            "Data of birth (2003, 7, 15)\n",
            "Birth year 2003\n",
            "3\n"
          ]
        }
      ]
    },
    {
      "cell_type": "code",
      "source": [
        "dob.append(10)\n",
        "dob[1] = 8\n",
        "dob.remove(7)"
      ],
      "metadata": {
        "colab": {
          "base_uri": "https://localhost:8080/",
          "height": 141
        },
        "id": "nc7_el3m8u1S",
        "outputId": "c3ed3c68-d9e6-4643-e6e9-153d0319bc9f"
      },
      "execution_count": 26,
      "outputs": [
        {
          "output_type": "error",
          "ename": "AttributeError",
          "evalue": "'tuple' object has no attribute 'append'",
          "traceback": [
            "\u001b[0;31m---------------------------------------------------------------------------\u001b[0m",
            "\u001b[0;31mAttributeError\u001b[0m                            Traceback (most recent call last)",
            "\u001b[0;32m/tmp/ipython-input-26-1533035903.py\u001b[0m in \u001b[0;36m<cell line: 0>\u001b[0;34m()\u001b[0m\n\u001b[0;32m----> 1\u001b[0;31m \u001b[0mdob\u001b[0m\u001b[0;34m.\u001b[0m\u001b[0mappend\u001b[0m\u001b[0;34m(\u001b[0m\u001b[0;36m10\u001b[0m\u001b[0;34m)\u001b[0m\u001b[0;34m\u001b[0m\u001b[0;34m\u001b[0m\u001b[0m\n\u001b[0m",
            "\u001b[0;31mAttributeError\u001b[0m: 'tuple' object has no attribute 'append'"
          ]
        }
      ]
    },
    {
      "cell_type": "markdown",
      "source": [
        "#slicing"
      ],
      "metadata": {
        "id": "136cfVqv9_ro"
      }
    },
    {
      "cell_type": "code",
      "source": [
        "names = [\"A\", \"B\", \"C\", \"D\", \"E\", \"F\", \"G\", \"H\"]\n",
        "\n",
        "print(names)"
      ],
      "metadata": {
        "colab": {
          "base_uri": "https://localhost:8080/"
        },
        "id": "0z9pWvnG9-yi",
        "outputId": "f0b163e2-6434-4d6b-b9e6-fca0b3fdce06"
      },
      "execution_count": 28,
      "outputs": [
        {
          "output_type": "stream",
          "name": "stdout",
          "text": [
            "['A', 'B', 'C', 'D', 'E', 'F', 'G', 'H']\n"
          ]
        }
      ]
    },
    {
      "cell_type": "code",
      "source": [
        "print(len(names))"
      ],
      "metadata": {
        "colab": {
          "base_uri": "https://localhost:8080/"
        },
        "id": "ahQ6s8mj-X64",
        "outputId": "e61f89fe-6534-4a4a-c5d7-ebd099521eb9"
      },
      "execution_count": 29,
      "outputs": [
        {
          "output_type": "stream",
          "name": "stdout",
          "text": [
            "8\n"
          ]
        }
      ]
    },
    {
      "cell_type": "code",
      "source": [
        "print(names[-8])"
      ],
      "metadata": {
        "colab": {
          "base_uri": "https://localhost:8080/"
        },
        "id": "SpcIfDrc-bwp",
        "outputId": "5c2c776f-2e71-4d12-b24a-e3599ded3521"
      },
      "execution_count": 33,
      "outputs": [
        {
          "output_type": "stream",
          "name": "stdout",
          "text": [
            "A\n"
          ]
        }
      ]
    },
    {
      "cell_type": "code",
      "source": [
        "print(names[2:5])  # [start : end] # inclusive, exclusive"
      ],
      "metadata": {
        "colab": {
          "base_uri": "https://localhost:8080/"
        },
        "id": "ODZU6dWm_qiA",
        "outputId": "4e4021c1-dec0-4132-f47d-97f471a22264"
      },
      "execution_count": 38,
      "outputs": [
        {
          "output_type": "stream",
          "name": "stdout",
          "text": [
            "['C', 'D', 'E']\n"
          ]
        }
      ]
    },
    {
      "cell_type": "code",
      "source": [
        "print(names[4:])"
      ],
      "metadata": {
        "colab": {
          "base_uri": "https://localhost:8080/"
        },
        "id": "9C1ZMkKZAVa0",
        "outputId": "ecdcc23b-4d70-495d-84ab-46d5912c5eef"
      },
      "execution_count": 41,
      "outputs": [
        {
          "output_type": "stream",
          "name": "stdout",
          "text": [
            "['E', 'F', 'G', 'H']\n"
          ]
        }
      ]
    },
    {
      "cell_type": "code",
      "source": [
        "print(names[:5])"
      ],
      "metadata": {
        "colab": {
          "base_uri": "https://localhost:8080/"
        },
        "id": "GfkGIVnaAclg",
        "outputId": "1a53ca3f-6d8a-4248-b8ba-4264f6d9503b"
      },
      "execution_count": 42,
      "outputs": [
        {
          "output_type": "stream",
          "name": "stdout",
          "text": [
            "['A', 'B', 'C', 'D', 'E']\n"
          ]
        }
      ]
    },
    {
      "cell_type": "code",
      "source": [
        "print(names[-5:-1])"
      ],
      "metadata": {
        "colab": {
          "base_uri": "https://localhost:8080/"
        },
        "id": "Er77-NbEAjWy",
        "outputId": "bff108aa-dd15-462f-ec1a-75e2b0ae661c"
      },
      "execution_count": 44,
      "outputs": [
        {
          "output_type": "stream",
          "name": "stdout",
          "text": [
            "['D', 'E', 'F', 'G']\n"
          ]
        }
      ]
    }
  ]
}