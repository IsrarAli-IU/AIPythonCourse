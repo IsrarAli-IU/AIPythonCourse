{
  "nbformat": 4,
  "nbformat_minor": 0,
  "metadata": {
    "colab": {
      "provenance": []
    },
    "kernelspec": {
      "name": "python3",
      "display_name": "Python 3"
    },
    "language_info": {
      "name": "python"
    }
  },
  "cells": [
    {
      "cell_type": "markdown",
      "source": [
        "#Operators in Python"
      ],
      "metadata": {
        "id": "nw1lVV_es4UF"
      }
    },
    {
      "cell_type": "code",
      "execution_count": null,
      "metadata": {
        "colab": {
          "base_uri": "https://localhost:8080/"
        },
        "id": "fWTJ8AwNsvnz",
        "outputId": "33f2cd43-fb0a-44b4-b825-c05c9b7a4e8f"
      },
      "outputs": [
        {
          "output_type": "stream",
          "name": "stdout",
          "text": [
            "Enter your name: Israr\n",
            "Enter quantity of apple : 5\n",
            "Enter quantity of banana : 10\n",
            "Enter quantity of milk : 3\n",
            "Hello  Israr  your Reciept:\n",
            "Total Bill:  750\n"
          ]
        }
      ],
      "source": [
        "name = input(\"Enter your name: \")\n",
        "\n",
        "#prices of fruits\n",
        "\n",
        "price_apple  = 50\n",
        "price_banana = 20\n",
        "price_milk = 100\n",
        "\n",
        "#Quantities purchase\n",
        "qa = input(\"Enter quantity of apple : \")\n",
        "qty_apple = int(qa)\n",
        "qty_banana = int(input(\"Enter quantity of banana : \"))\n",
        "qty_milk = int(input(\"Enter quantity of milk : \"))\n",
        "\n",
        "total_price_apple = qty_apple * price_apple  # * multiply\n",
        "total_price_banana = qty_banana * price_banana\n",
        "total_price_milk = qty_milk * price_milk\n",
        "\n",
        "total_bill_price = total_price_apple + total_price_banana + total_price_milk # + sum\n",
        "\n",
        "\n",
        "print(\"Hello \",name, \" your Reciept:\")\n",
        "print(\"Total Bill: \", total_bill_price)\n",
        "\n",
        "\n"
      ]
    },
    {
      "cell_type": "code",
      "source": [
        "print(2+2)\n",
        "print(\"2\"+\"2\")\n",
        "i=1\n",
        "i = i + 10\n",
        "i += 10\n",
        "\n",
        "print(5 <= 5)"
      ],
      "metadata": {
        "colab": {
          "base_uri": "https://localhost:8080/"
        },
        "id": "xaY8aVCQx1oG",
        "outputId": "e2188c13-d8e4-4a87-92d5-964e4c448f74"
      },
      "execution_count": null,
      "outputs": [
        {
          "output_type": "stream",
          "name": "stdout",
          "text": [
            "4\n",
            "22\n",
            "True\n"
          ]
        }
      ]
    },
    {
      "cell_type": "code",
      "source": [
        "print (True and True)\n",
        "#میں نے کھانا کھایا اور پانی پیا\n",
        "print (True or True)\n",
        "#میں نے کھانا کھایا یا پانی پیا"
      ],
      "metadata": {
        "colab": {
          "base_uri": "https://localhost:8080/"
        },
        "id": "kVIzBb__zBwt",
        "outputId": "07d30e58-39c7-42dd-e960-9e6f20355757"
      },
      "execution_count": null,
      "outputs": [
        {
          "output_type": "stream",
          "name": "stdout",
          "text": [
            "True\n"
          ]
        }
      ]
    },
    {
      "cell_type": "markdown",
      "source": [
        "#Types of Operators\n",
        "\n",
        "\n",
        "1.   Arithmatic operators (+,-, *, / )\n",
        "2.   Assignment ( =,+=)\n",
        "3.   Comparison (> , < , <= , >=)\n",
        "4.   Logical ( and , or , not )\n",
        "5.   Identity ( is , is not)\n",
        "6.   Membership operator (in, not in)\n",
        "\n",
        "\n"
      ],
      "metadata": {
        "id": "Cqv8G6uGxlbW"
      }
    },
    {
      "cell_type": "code",
      "source": [
        "customer_has_ticket = True\n",
        "customer_has_popcorn = False\n",
        "\n",
        "can_customer_watch_movie = customer_has_ticket and customer_has_popcorn\n",
        "print(\"can watch movie : \",can_customer_watch_movie)"
      ],
      "metadata": {
        "colab": {
          "base_uri": "https://localhost:8080/"
        },
        "id": "zhvjGw8W0JJZ",
        "outputId": "2227070a-6a13-4c14-c7b8-3126a5fbe406"
      },
      "execution_count": null,
      "outputs": [
        {
          "output_type": "stream",
          "name": "stdout",
          "text": [
            "can watch movie :  False\n"
          ]
        }
      ]
    },
    {
      "cell_type": "code",
      "source": [
        "user_has_wifi_connected = True\n",
        "user_has_mobile_data_on = False\n",
        "\n",
        "can_user_join_class = user_has_wifi_connected or user_has_mobile_data_on\n",
        "print(\"can join class : \",can_user_join_class)"
      ],
      "metadata": {
        "colab": {
          "base_uri": "https://localhost:8080/"
        },
        "id": "FTtKngso0u9Q",
        "outputId": "47659f1d-f30a-4670-ba44-d08c189549ef"
      },
      "execution_count": null,
      "outputs": [
        {
          "output_type": "stream",
          "name": "stdout",
          "text": [
            "can join class :  True\n"
          ]
        }
      ]
    },
    {
      "cell_type": "code",
      "source": [
        "is_present = True\n",
        "\n",
        "is_not_present = not is_present\n",
        "\n",
        "print(is_not_present)"
      ],
      "metadata": {
        "colab": {
          "base_uri": "https://localhost:8080/"
        },
        "id": "hovA4Fld1GHD",
        "outputId": "81647575-806f-422f-c8ee-411b342e398c"
      },
      "execution_count": null,
      "outputs": [
        {
          "output_type": "stream",
          "name": "stdout",
          "text": [
            "False\n"
          ]
        }
      ]
    },
    {
      "cell_type": "code",
      "source": [
        "username_entered = True\n",
        "password_entered = True\n",
        "captcha_passed = False\n",
        "\n",
        "can_user_login = username_entered and password_entered and not captcha_passed\n",
        "print(\"can login : \",can_user_login)"
      ],
      "metadata": {
        "colab": {
          "base_uri": "https://localhost:8080/"
        },
        "id": "v1UAFFf91cwp",
        "outputId": "6b9e546b-9977-4ffe-9617-d4c8eaf05e7f"
      },
      "execution_count": null,
      "outputs": [
        {
          "output_type": "stream",
          "name": "stdout",
          "text": [
            "can login :  False\n"
          ]
        }
      ]
    },
    {
      "cell_type": "code",
      "source": [
        "a = [1,2,3]\n",
        "b = a\n",
        "c = [1,2,3]\n",
        "\n",
        "print(a is b)\n",
        "print(a is c)"
      ],
      "metadata": {
        "colab": {
          "base_uri": "https://localhost:8080/"
        },
        "id": "WiQFysnQ3f2D",
        "outputId": "5da3767b-4d6a-4fc9-f206-b3b567803048"
      },
      "execution_count": null,
      "outputs": [
        {
          "output_type": "stream",
          "name": "stdout",
          "text": [
            "True\n",
            "False\n"
          ]
        }
      ]
    }
  ]
}