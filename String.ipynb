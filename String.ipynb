{
  "nbformat": 4,
  "nbformat_minor": 0,
  "metadata": {
    "colab": {
      "provenance": []
    },
    "kernelspec": {
      "name": "python3",
      "display_name": "Python 3"
    },
    "language_info": {
      "name": "python"
    }
  },
  "cells": [
    {
      "cell_type": "markdown",
      "source": [
        "#Basic String Operations"
      ],
      "metadata": {
        "id": "Ybo4819nptGX"
      }
    },
    {
      "cell_type": "code",
      "execution_count": 10,
      "metadata": {
        "colab": {
          "base_uri": "https://localhost:8080/"
        },
        "id": "j6xRvfaGpSlG",
        "outputId": "ee943664-c900-4f97-a512-15acee10f881"
      },
      "outputs": [
        {
          "output_type": "stream",
          "name": "stdout",
          "text": [
            "Israr\n",
            "5\n",
            "ISRAR\n",
            "israr\n",
            "I s r a r\n",
            "r\n"
          ]
        }
      ],
      "source": [
        "name = \"Israr\"\n",
        "print(name)\n",
        "print(len(name))\n",
        "print(name.upper())\n",
        "print(name.lower())\n",
        "\n",
        "print(name[0],name[1],name[2],name[3],name[4])\n",
        "print(name[-1])"
      ]
    },
    {
      "cell_type": "markdown",
      "source": [
        "# String Slicing"
      ],
      "metadata": {
        "id": "uyhMiXj7qnde"
      }
    },
    {
      "cell_type": "code",
      "source": [
        "sentence  = \"Python is very powerful language\"\n",
        "\n",
        "print(sentence)\n",
        "print(sentence[0:6])\n",
        "print(sentence[-9:])"
      ],
      "metadata": {
        "colab": {
          "base_uri": "https://localhost:8080/"
        },
        "id": "Jk6jmL60qiiS",
        "outputId": "cf50c132-ca1b-4549-d297-24ece69825e9"
      },
      "execution_count": 14,
      "outputs": [
        {
          "output_type": "stream",
          "name": "stdout",
          "text": [
            "Python is very powerful language\n",
            "Python\n",
            " language\n"
          ]
        }
      ]
    },
    {
      "cell_type": "markdown",
      "source": [
        "#UseFull methods in String"
      ],
      "metadata": {
        "id": "FrHR41W1rCvD"
      }
    },
    {
      "cell_type": "code",
      "source": [
        "sentence  = \"     Python is very powerful language   \"\n",
        "print(sentence)\n",
        "print(sentence.strip())"
      ],
      "metadata": {
        "colab": {
          "base_uri": "https://localhost:8080/"
        },
        "id": "MXeOFdLwrHNM",
        "outputId": "bf409616-3f0f-4af1-fe29-dde9ef6a99e5"
      },
      "execution_count": 17,
      "outputs": [
        {
          "output_type": "stream",
          "name": "stdout",
          "text": [
            "     Python is very powerful language   \n",
            "Python is very powerful language\n"
          ]
        }
      ]
    },
    {
      "cell_type": "code",
      "source": [
        "text = \"            Israr Ali \"\n",
        "print(len(text))\n",
        "print(text.strip())"
      ],
      "metadata": {
        "colab": {
          "base_uri": "https://localhost:8080/"
        },
        "id": "B9df8oearu8f",
        "outputId": "30345517-f2aa-479a-b921-ab2da3d0b4b4"
      },
      "execution_count": 21,
      "outputs": [
        {
          "output_type": "stream",
          "name": "stdout",
          "text": [
            "22\n",
            "Israr Ali\n"
          ]
        }
      ]
    },
    {
      "cell_type": "code",
      "source": [
        "i  = [10,20,30]\n",
        "print(i)\n",
        "print(len(i))"
      ],
      "metadata": {
        "colab": {
          "base_uri": "https://localhost:8080/"
        },
        "id": "sOklTgv_sRlZ",
        "outputId": "50030313-dccb-46ac-97a4-5954f3852945"
      },
      "execution_count": 24,
      "outputs": [
        {
          "output_type": "stream",
          "name": "stdout",
          "text": [
            "[10, 20, 30]\n",
            "3\n"
          ]
        }
      ]
    },
    {
      "cell_type": "code",
      "source": [
        "j = \"20\"\n",
        "j.upper()"
      ],
      "metadata": {
        "colab": {
          "base_uri": "https://localhost:8080/",
          "height": 35
        },
        "id": "n4-mm7nQs5Sv",
        "outputId": "be787011-45c1-4645-e248-bba7152d087c"
      },
      "execution_count": 27,
      "outputs": [
        {
          "output_type": "execute_result",
          "data": {
            "text/plain": [
              "'20'"
            ],
            "application/vnd.google.colaboratory.intrinsic+json": {
              "type": "string"
            }
          },
          "metadata": {},
          "execution_count": 27
        }
      ]
    },
    {
      "cell_type": "code",
      "source": [
        "print(sentence)\n",
        "new_sentence = sentence.replace(\"Python\",\"Java\").strip()\n",
        "print(new_sentence)"
      ],
      "metadata": {
        "colab": {
          "base_uri": "https://localhost:8080/"
        },
        "id": "n-vZ1u7gtrFb",
        "outputId": "17f22dba-7a3a-4910-a2db-1f450ecb2280"
      },
      "execution_count": 33,
      "outputs": [
        {
          "output_type": "stream",
          "name": "stdout",
          "text": [
            "     Python is very powerful language   \n",
            "Java is very powerful language\n"
          ]
        }
      ]
    },
    {
      "cell_type": "code",
      "source": [
        "words = sentence.strip().split(\" \")\n",
        "print(words)\n",
        "print(len(words))"
      ],
      "metadata": {
        "colab": {
          "base_uri": "https://localhost:8080/"
        },
        "id": "AjW7xFmDuTog",
        "outputId": "875f1ed6-fd55-4ba9-eabc-7e28cea858c6"
      },
      "execution_count": 36,
      "outputs": [
        {
          "output_type": "stream",
          "name": "stdout",
          "text": [
            "['Python', 'is', 'very', 'powerful', 'language']\n",
            "5\n"
          ]
        }
      ]
    },
    {
      "cell_type": "code",
      "source": [
        "for w in words:\n",
        "  print(w)"
      ],
      "metadata": {
        "colab": {
          "base_uri": "https://localhost:8080/"
        },
        "id": "15GV3XRzu0tV",
        "outputId": "bec48be3-730d-41cb-d1a2-8ff6f03104f8"
      },
      "execution_count": 37,
      "outputs": [
        {
          "output_type": "stream",
          "name": "stdout",
          "text": [
            "Python\n",
            "is\n",
            "very\n",
            "powerful\n",
            "language\n"
          ]
        }
      ]
    },
    {
      "cell_type": "code",
      "source": [
        "line = \"i,am,learning,python\"\n",
        "print(line)\n",
        "print(len(line))\n",
        "words_line = line.split(\",\")\n",
        "print(words_line)\n",
        "print(len(words_line))\n",
        "for w in words_line:\n",
        "  print(w)"
      ],
      "metadata": {
        "colab": {
          "base_uri": "https://localhost:8080/"
        },
        "id": "oDWwgs7Ku7rJ",
        "outputId": "d991ec8e-cf35-4ae1-ec23-22363fa26a94"
      },
      "execution_count": 41,
      "outputs": [
        {
          "output_type": "stream",
          "name": "stdout",
          "text": [
            "i,am,learning,python\n",
            "20\n",
            "['i', 'am', 'learning', 'python']\n",
            "4\n",
            "i\n",
            "am\n",
            "learning\n",
            "python\n"
          ]
        }
      ]
    },
    {
      "cell_type": "code",
      "source": [
        "paragraph =\"I am learning python and this languages is very easy to understand\"\n",
        "\n",
        "print(paragraph.split(\"python\"))"
      ],
      "metadata": {
        "colab": {
          "base_uri": "https://localhost:8080/"
        },
        "id": "FG5RTWlTvUYI",
        "outputId": "13bd670c-98fb-4dc7-8684-7ee7976c47fd"
      },
      "execution_count": 44,
      "outputs": [
        {
          "output_type": "stream",
          "name": "stdout",
          "text": [
            "['I am learning ', ' and this languages is very easy to understand']\n"
          ]
        }
      ]
    },
    {
      "cell_type": "markdown",
      "source": [
        "#f-strings / Formating"
      ],
      "metadata": {
        "id": "CtYJA_dBwAR_"
      }
    },
    {
      "cell_type": "code",
      "source": [
        "name = \"Israr\"\n",
        "GPA = 3.55\n",
        "marks = [56,67,89]\n",
        "\n",
        "print(\"My name is \" + name + \" and my GPA is \" + str(GPA))\n",
        "\n"
      ],
      "metadata": {
        "colab": {
          "base_uri": "https://localhost:8080/"
        },
        "id": "fjvXEz2Fv_A9",
        "outputId": "4ad760a7-9bff-41cb-b3ce-35d3177907a6"
      },
      "execution_count": 51,
      "outputs": [
        {
          "output_type": "stream",
          "name": "stdout",
          "text": [
            "My name is Israr and my GPA is 3.55\n"
          ]
        }
      ]
    },
    {
      "cell_type": "code",
      "source": [
        "print(\"My name is \",name,\" and my GPA is \",GPA)"
      ],
      "metadata": {
        "colab": {
          "base_uri": "https://localhost:8080/"
        },
        "id": "-9vhbCEqwZ2w",
        "outputId": "fd97aa9a-7600-4ab8-c50e-63b7756f5450"
      },
      "execution_count": 47,
      "outputs": [
        {
          "output_type": "stream",
          "name": "stdout",
          "text": [
            "My name is  Israr  and my GPA is  3.55\n"
          ]
        }
      ]
    },
    {
      "cell_type": "code",
      "source": [
        "print(\"My name is \"+name+\" and my GPA is \",GPA)"
      ],
      "metadata": {
        "colab": {
          "base_uri": "https://localhost:8080/"
        },
        "id": "CEKq_SZVwivd",
        "outputId": "0bc19db8-2501-4209-c45f-d2a40d2c6ba2"
      },
      "execution_count": 48,
      "outputs": [
        {
          "output_type": "stream",
          "name": "stdout",
          "text": [
            "My name is Israr and my GPA is  3.55\n"
          ]
        }
      ]
    },
    {
      "cell_type": "code",
      "source": [
        "print(f\"My name is {name} and my GPA is {GPA} and my marks are {marks}\")"
      ],
      "metadata": {
        "colab": {
          "base_uri": "https://localhost:8080/"
        },
        "id": "axxMTZA_wpAe",
        "outputId": "d806d872-49ae-433b-c6e9-3153ca40ffc7"
      },
      "execution_count": 52,
      "outputs": [
        {
          "output_type": "stream",
          "name": "stdout",
          "text": [
            "My name is Israr and my GPA is 3.55 and my marks are [56, 67, 89]\n"
          ]
        }
      ]
    }
  ]
}