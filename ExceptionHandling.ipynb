{
  "nbformat": 4,
  "nbformat_minor": 0,
  "metadata": {
    "colab": {
      "provenance": []
    },
    "kernelspec": {
      "name": "python3",
      "display_name": "Python 3"
    },
    "language_info": {
      "name": "python"
    }
  },
  "cells": [
    {
      "cell_type": "markdown",
      "source": [
        "#Error\n",
        "\n",
        "- Syntax Error\n",
        "- Runtime Error #here\n",
        "- Logical Error"
      ],
      "metadata": {
        "id": "VwFrIel414wW"
      }
    },
    {
      "cell_type": "code",
      "execution_count": 3,
      "metadata": {
        "colab": {
          "base_uri": "https://localhost:8080/"
        },
        "id": "2gkTrirr1Gj5",
        "outputId": "61f1ca5f-7694-40ca-a6c9-364d7788ee57"
      },
      "outputs": [
        {
          "output_type": "stream",
          "name": "stdout",
          "text": [
            "11\n"
          ]
        }
      ],
      "source": [
        "i = 10\n",
        "i = i+1\n",
        "\n",
        "print(i)"
      ]
    },
    {
      "cell_type": "code",
      "source": [
        "try:\n",
        "  x = int(input(\"Enter a number : \"))\n",
        "  print(x)\n",
        "except:\n",
        "  print(\"Invalid input\")\n",
        "\n",
        "print(\"Welcome to my Mobile app\")"
      ],
      "metadata": {
        "colab": {
          "base_uri": "https://localhost:8080/"
        },
        "id": "nXNfaPD_2dII",
        "outputId": "81c6e14b-1edb-4429-ab53-0ac14eb89d18"
      },
      "execution_count": 9,
      "outputs": [
        {
          "output_type": "stream",
          "name": "stdout",
          "text": [
            "Enter a number : israr\n",
            "Invalid input\n",
            "Welcome to my Mobile app\n"
          ]
        }
      ]
    },
    {
      "cell_type": "code",
      "source": [
        "try:\n",
        "  y = int(input(\"Enter a number : \"))\n",
        "  print(100 / y)\n",
        "except ValueError:\n",
        "  print(\"Invalid input\")\n",
        "except ZeroDivisionError:\n",
        "  print(\"Cannot divide by zero\")\n",
        "\n",
        "print(\"Welcome to my Mobile app\")"
      ],
      "metadata": {
        "colab": {
          "base_uri": "https://localhost:8080/"
        },
        "id": "XYMuPG8f3l07",
        "outputId": "1c1c5e40-76f9-4780-e1b9-47165317b4db"
      },
      "execution_count": 20,
      "outputs": [
        {
          "output_type": "stream",
          "name": "stdout",
          "text": [
            "Enter a number : 0\n",
            "Cannot divide by zero\n",
            "Welcome to my Mobile app\n"
          ]
        }
      ]
    },
    {
      "cell_type": "code",
      "source": [
        "try:\n",
        "  num = int(input(\"Enter a number : \"))\n",
        "  print(100 / num)\n",
        "except:\n",
        "  print(\"Something went wrong\")\n",
        "else:\n",
        "  print(\"No error\")\n",
        "finally:\n",
        "  print(\"This is finally block\")"
      ],
      "metadata": {
        "colab": {
          "base_uri": "https://localhost:8080/"
        },
        "id": "iW8lF6uB4Vv-",
        "outputId": "dfdb9cad-bb36-4461-9b91-e75e2a108a32"
      },
      "execution_count": 24,
      "outputs": [
        {
          "output_type": "stream",
          "name": "stdout",
          "text": [
            "Enter a number : israr\n",
            "Something went wrong\n",
            "This is finally block\n"
          ]
        }
      ]
    },
    {
      "cell_type": "code",
      "source": [
        "age = int(input(\"Enter your age : \"))\n",
        "if age < 18:\n",
        "  raise Exception(\"You are not eligible to vote\")\n",
        "else:\n",
        "  print(\"You are eligible to vote\")"
      ],
      "metadata": {
        "colab": {
          "base_uri": "https://localhost:8080/",
          "height": 228
        },
        "id": "-K_gvp5j6ERe",
        "outputId": "e418a3dd-0967-421b-f870-48d6f7080934"
      },
      "execution_count": 25,
      "outputs": [
        {
          "name": "stdout",
          "output_type": "stream",
          "text": [
            "Enter your age : 15\n"
          ]
        },
        {
          "output_type": "error",
          "ename": "Exception",
          "evalue": "You are not eligible to vote",
          "traceback": [
            "\u001b[0;31m---------------------------------------------------------------------------\u001b[0m",
            "\u001b[0;31mException\u001b[0m                                 Traceback (most recent call last)",
            "\u001b[0;32m/tmp/ipython-input-25-904587506.py\u001b[0m in \u001b[0;36m<cell line: 0>\u001b[0;34m()\u001b[0m\n\u001b[1;32m      1\u001b[0m \u001b[0mage\u001b[0m \u001b[0;34m=\u001b[0m \u001b[0mint\u001b[0m\u001b[0;34m(\u001b[0m\u001b[0minput\u001b[0m\u001b[0;34m(\u001b[0m\u001b[0;34m\"Enter your age : \"\u001b[0m\u001b[0;34m)\u001b[0m\u001b[0;34m)\u001b[0m\u001b[0;34m\u001b[0m\u001b[0;34m\u001b[0m\u001b[0m\n\u001b[1;32m      2\u001b[0m \u001b[0;32mif\u001b[0m \u001b[0mage\u001b[0m \u001b[0;34m<\u001b[0m \u001b[0;36m18\u001b[0m\u001b[0;34m:\u001b[0m\u001b[0;34m\u001b[0m\u001b[0;34m\u001b[0m\u001b[0m\n\u001b[0;32m----> 3\u001b[0;31m   \u001b[0;32mraise\u001b[0m \u001b[0mException\u001b[0m\u001b[0;34m(\u001b[0m\u001b[0;34m\"You are not eligible to vote\"\u001b[0m\u001b[0;34m)\u001b[0m\u001b[0;34m\u001b[0m\u001b[0;34m\u001b[0m\u001b[0m\n\u001b[0m\u001b[1;32m      4\u001b[0m \u001b[0;32melse\u001b[0m\u001b[0;34m:\u001b[0m\u001b[0;34m\u001b[0m\u001b[0;34m\u001b[0m\u001b[0m\n\u001b[1;32m      5\u001b[0m   \u001b[0mprint\u001b[0m\u001b[0;34m(\u001b[0m\u001b[0;34m\"You are eligible to vote\"\u001b[0m\u001b[0;34m)\u001b[0m\u001b[0;34m\u001b[0m\u001b[0;34m\u001b[0m\u001b[0m\n",
            "\u001b[0;31mException\u001b[0m: You are not eligible to vote"
          ]
        }
      ]
    },
    {
      "cell_type": "markdown",
      "source": [
        "#Calculator\n",
        "\n",
        "- Accept two numbers and an operator (+,*,/,-)\n",
        "- use try - except to handle\n",
        " - Division by zero\n",
        " - invalid input\n",
        " - unsupported operators"
      ],
      "metadata": {
        "id": "4G32pY546nx8"
      }
    },
    {
      "cell_type": "code",
      "source": [],
      "metadata": {
        "id": "P2lu5LOp6l3-"
      },
      "execution_count": null,
      "outputs": []
    }
  ]
}