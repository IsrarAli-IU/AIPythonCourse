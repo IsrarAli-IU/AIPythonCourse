{
  "nbformat": 4,
  "nbformat_minor": 0,
  "metadata": {
    "colab": {
      "provenance": []
    },
    "kernelspec": {
      "name": "python3",
      "display_name": "Python 3"
    },
    "language_info": {
      "name": "python"
    }
  },
  "cells": [
    {
      "cell_type": "code",
      "execution_count": 4,
      "metadata": {
        "colab": {
          "base_uri": "https://localhost:8080/"
        },
        "id": "WeRNeu1L8pkD",
        "outputId": "08c87a62-6dbe-421b-cc8a-2e57f34c5d5b"
      },
      "outputs": [
        {
          "output_type": "stream",
          "name": "stdout",
          "text": [
            "Israr\n",
            "55\n",
            "Israr\n",
            "55\n"
          ]
        }
      ],
      "source": [
        "#Student is class\n",
        "# s1 and s2 are objects of Student Class\n",
        "class Student:\n",
        "  name = \"Israr\"\n",
        "  age = 55\n",
        "\n",
        "s1 = Student()\n",
        "print(s1.name)\n",
        "print(s1.age)\n",
        "\n",
        "s2 = Student()\n",
        "print(s2.name)\n",
        "print(s2.age)"
      ]
    },
    {
      "cell_type": "code",
      "source": [
        "class Student:\n",
        "  name = \"Israr\"\n",
        "  age = 55\n",
        "\n",
        "  def introduce(self):\n",
        "    print(\"My name is \" + Student.name + \" and I am \" + str(Student.age) + \" years old.\")\n",
        "\n",
        "s1 = Student()\n",
        "s1.introduce()"
      ],
      "metadata": {
        "colab": {
          "base_uri": "https://localhost:8080/"
        },
        "id": "GdPN1vyF9dMU",
        "outputId": "d39580f8-b7f9-43dc-ab8b-dd1345ee06ba"
      },
      "execution_count": 6,
      "outputs": [
        {
          "output_type": "stream",
          "name": "stdout",
          "text": [
            "My name is Israr and I am 55 years old.\n"
          ]
        }
      ]
    },
    {
      "cell_type": "code",
      "source": [
        "class Student:\n",
        "  def __init__(self,name,age):\n",
        "    self.name = name\n",
        "    self.age = age\n",
        "\n",
        "  def introduce(self):\n",
        "    print(f\"My name is {self.name} and I am {self.age} years old.\")\n",
        "\n",
        "  def changeName(self, newname):\n",
        "    self.name = newname\n",
        "\n",
        "s1 = Student(\"Israr\",55)\n",
        "s1.introduce()\n",
        "\n",
        "s2 = Student(\"hania\", 5)\n",
        "s2.introduce()\n",
        "\n",
        "s3 = Student(\"Roomesa\", 12)\n",
        "s3.introduce()\n",
        "\n",
        "s1.changeName(\"Dr. Israr\")\n",
        "s1.introduce()"
      ],
      "metadata": {
        "colab": {
          "base_uri": "https://localhost:8080/"
        },
        "id": "fWUoijEd-IYP",
        "outputId": "5ab9cc9c-f37a-4aba-b4ee-157bc14f7c7a"
      },
      "execution_count": 9,
      "outputs": [
        {
          "output_type": "stream",
          "name": "stdout",
          "text": [
            "My name is Israr and I am 55 years old.\n",
            "My name is hania and I am 5 years old.\n",
            "My name is Roomesa and I am 12 years old.\n",
            "My name is Dr. Israr and I am 55 years old.\n"
          ]
        }
      ]
    },
    {
      "cell_type": "code",
      "source": [
        "class BankAccount:\n",
        "  def __init__(self, account_number, balance):\n",
        "    self.account_number = account_number\n",
        "    self.balance = balance\n",
        "\n",
        "  def deposit(self, amount):\n",
        "    self.balance += amount   # self.balance = self.balance + amount\n",
        "    print(f\"Deposited {amount}Rs. New balance: {self.balance}Rs\")\n",
        "\n",
        "  def withdraw(self, amount):\n",
        "    if self.balance >= amount:\n",
        "      self.balance -= amount\n",
        "    else:\n",
        "      print(\"Insufficient funds\")\n",
        "    print(f\"Withdrew {amount}Rs. New balance: {self.balance}Rs\")\n",
        "\n",
        "  def get_balance(self):\n",
        "    print(f\"Account number: {self.account_number} balance is {self.balance}Rs\")\n",
        "\n",
        "ba1 = BankAccount(\"123456789\", 1000)\n",
        "ba1.deposit(500)\n",
        "ba1.withdraw(200)\n",
        "ba1.get_balance()"
      ],
      "metadata": {
        "colab": {
          "base_uri": "https://localhost:8080/"
        },
        "id": "EDpHgocpA9xt",
        "outputId": "d68e0098-dcd4-4f60-a9af-2e9e0611d548"
      },
      "execution_count": 13,
      "outputs": [
        {
          "output_type": "stream",
          "name": "stdout",
          "text": [
            "Deposited 500Rs. New balance: 1500Rs\n",
            "Withdrew 200Rs. New balance: 1300Rs\n",
            "Account number: 123456789 balance is 1300Rs\n"
          ]
        }
      ]
    },
    {
      "cell_type": "code",
      "source": [
        "class BusTicket:\n",
        "  def __init__(self, name, age, destination):\n",
        "    self.name = name\n",
        "    self.age = age\n",
        "    self.destination = destination\n",
        "\n",
        "  def print_ticket(self):\n",
        "    print(f\"Name: {self.name} Age: {self.age} Destination: {self.destination}\")\n",
        "\n",
        "ticket1 = BusTicket(\"John\", 12, \"Nairobi\")\n",
        "ticket1.print_ticket()\n",
        "\n",
        "ticket2 = BusTicket(\"Jane\", 18, \"Mombasa\")\n",
        "ticket2.print_ticket()\n",
        "\n",
        "ticket3 = BusTicket(\"Bob\", 25, \"Kisumu\")\n",
        "ticket3.print_ticket()"
      ],
      "metadata": {
        "colab": {
          "base_uri": "https://localhost:8080/"
        },
        "id": "pnKMHmv4C39_",
        "outputId": "c9c1acda-2e21-4487-f9ed-3a67c3c618f6"
      },
      "execution_count": 14,
      "outputs": [
        {
          "output_type": "stream",
          "name": "stdout",
          "text": [
            "Name: John Age: 12 Destination: Nairobi\n",
            "Name: Jane Age: 18 Destination: Mombasa\n",
            "Name: Bob Age: 25 Destination: Kisumu\n"
          ]
        }
      ]
    },
    {
      "cell_type": "code",
      "source": [
        "class Item:\n",
        "  def __init__(self, name, price):\n",
        "    self.name = name\n",
        "    self.price = price\n",
        "\n",
        "class ShopingCart:\n",
        "  def __init__(self):\n",
        "    self.items = []\n",
        "\n",
        "  def add_item(self, item):\n",
        "    self.items.append(item)\n",
        "\n",
        "  def remove_item(self, item):\n",
        "    self.items.remove(item)\n",
        "\n",
        "  def total_price(self):\n",
        "    for item in self.items:\n",
        "      total += item.price\n",
        "\n",
        "    print(f\"Total price: {total}\")\n",
        "\n",
        "\n",
        "item1 = Item(\"Laptop\", 1000)\n",
        "item2 = Item(\"Phone\", 500)\n",
        "item3 = Item(\"Tablet\", 300)\n",
        "\n",
        "sc1 = ShopingCart()\n",
        "sc1.add_item(item1)\n",
        "sc1.add_item(item2)\n",
        "sc1.add_item(item3)\n",
        "\n",
        "sc1.total_price()\n",
        "\n",
        "sc1.remove_item(item2)\n",
        "sc1.total_price()"
      ],
      "metadata": {
        "colab": {
          "base_uri": "https://localhost:8080/"
        },
        "id": "_XiuPcQXD2pk",
        "outputId": "774095a5-5b50-4c6e-fd83-daf600281eac"
      },
      "execution_count": 16,
      "outputs": [
        {
          "output_type": "stream",
          "name": "stdout",
          "text": [
            "Total price: 1800\n",
            "Total price: 1300\n"
          ]
        }
      ]
    },
    {
      "cell_type": "code",
      "source": [
        "class Car:\n",
        "  def __init__(self, b, m):\n",
        "    self.brand = b\n",
        "    self.model = m\n",
        "    self.started = False\n",
        "\n",
        "  def start(self):\n",
        "    self.started = True\n",
        "    print(f\"{self.brand} Car started\")\n",
        "\n",
        "  def stop(self):\n",
        "    self.started = False\n",
        "    print(f\"{self.brand} Car stopped\")\n",
        "\n",
        "\n",
        "car1 = Car(\"Toyota\", \"Camry\")\n",
        "car1.start()\n",
        "\n",
        "car2 = Car(\"Honda\", \"Civic\")\n",
        "car2.start()\n",
        "car2.stop()\n"
      ],
      "metadata": {
        "colab": {
          "base_uri": "https://localhost:8080/"
        },
        "id": "jrmRA3dVFbOk",
        "outputId": "83f04c93-2160-40db-bbd4-552b6f7a747c"
      },
      "execution_count": 21,
      "outputs": [
        {
          "output_type": "stream",
          "name": "stdout",
          "text": [
            "Toyota Car started\n",
            "Honda Car started\n",
            "Honda Car stopped\n"
          ]
        }
      ]
    },
    {
      "cell_type": "code",
      "source": [
        "class Student:\n",
        "  def __init__(self, name, age, grade):\n",
        "    self.name = name\n",
        "    self.age = age\n",
        "    self.grade = grade\n",
        "\n",
        "  def display(self):\n",
        "    print(f\" Student name is {self.name} , age is {self.age}, grade is {self.grade}\")\n",
        "\n",
        "Students = [Student(\"Israr\", 55, \"A\"),Student(\"hania\", 5, \"B\"),Student(\"Roomesa\", 12, \"C\")]\n",
        "\n",
        "for s in Students:\n",
        "  s.display()"
      ],
      "metadata": {
        "colab": {
          "base_uri": "https://localhost:8080/"
        },
        "id": "wChKP-IOGjEK",
        "outputId": "cc649423-0cc7-49ef-c60d-2bc399f415fa"
      },
      "execution_count": 23,
      "outputs": [
        {
          "output_type": "stream",
          "name": "stdout",
          "text": [
            " Student name is Israr , age is 55, grade is A\n",
            " Student name is hania , age is 5, grade is B\n",
            " Student name is Roomesa , age is 12, grade is C\n"
          ]
        }
      ]
    }
  ]
}