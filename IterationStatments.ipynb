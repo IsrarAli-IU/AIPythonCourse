{
  "nbformat": 4,
  "nbformat_minor": 0,
  "metadata": {
    "colab": {
      "provenance": []
    },
    "kernelspec": {
      "name": "python3",
      "display_name": "Python 3"
    },
    "language_info": {
      "name": "python"
    }
  },
  "cells": [
    {
      "cell_type": "markdown",
      "source": [
        "#While Loop\n",
        "Repeat until a condition becomes false\n",
        "\n",
        "!you dont know how many times to repeat"
      ],
      "metadata": {
        "id": "KcbpWV9_JAsw"
      }
    },
    {
      "cell_type": "code",
      "execution_count": 3,
      "metadata": {
        "colab": {
          "base_uri": "https://localhost:8080/"
        },
        "collapsed": true,
        "id": "m--ohaAuI6_S",
        "outputId": "b442141f-5576-4d6f-b4f5-d28abd399370"
      },
      "outputs": [
        {
          "output_type": "stream",
          "name": "stdout",
          "text": [
            "Launching in  10\n",
            "Launching in  9\n",
            "Launching in  8\n",
            "Launching in  7\n",
            "Launching in  6\n",
            "Launching in  5\n",
            "Launching in  4\n",
            "Launching in  3\n",
            "Launching in  2\n",
            "Launching in  1\n",
            "Blast Off!\n"
          ]
        }
      ],
      "source": [
        "countdown = 10\n",
        "\n",
        "while countdown > 0:\n",
        "  print(\"Launching in \",countdown)\n",
        "  countdown = countdown - 1\n",
        "\n",
        "print(\"Blast Off!\")"
      ]
    },
    {
      "cell_type": "code",
      "source": [
        "password = \"\"\n",
        "\n",
        "while password != \"secret\":\n",
        "  password = input(\"Enter the password: \")\n",
        "\n",
        "print(\"Access Granted\")"
      ],
      "metadata": {
        "colab": {
          "base_uri": "https://localhost:8080/"
        },
        "id": "1ZR89TOFKWTw",
        "outputId": "a9908ddf-8a79-49b6-d4e9-1b176a2a5346"
      },
      "execution_count": 4,
      "outputs": [
        {
          "output_type": "stream",
          "name": "stdout",
          "text": [
            "Enter the password: 1234\n",
            "Enter the password: abcd\n",
            "Enter the password: qwer\n",
            "Enter the password: kuch bhi\n",
            "Enter the password: pochta hi rahay ga\n",
            "Enter the password: secret\n",
            "Access Granted\n"
          ]
        }
      ]
    },
    {
      "cell_type": "code",
      "source": [
        "number = int(input(\"enter any number: \"))\n",
        "\n",
        "count = 1\n",
        "\n",
        "while count <= 10:\n",
        "  print(number, \" X \", count, \" = \", (number * count))\n",
        "  count = count + 1"
      ],
      "metadata": {
        "colab": {
          "base_uri": "https://localhost:8080/"
        },
        "id": "O7-KvSSmLKMG",
        "outputId": "a8735fb8-d5db-4db4-a21f-f297b2069bda"
      },
      "execution_count": 10,
      "outputs": [
        {
          "output_type": "stream",
          "name": "stdout",
          "text": [
            "enter any number: 222\n",
            "222  X  1  =  222\n",
            "222  X  2  =  444\n",
            "222  X  3  =  666\n",
            "222  X  4  =  888\n",
            "222  X  5  =  1110\n",
            "222  X  6  =  1332\n",
            "222  X  7  =  1554\n",
            "222  X  8  =  1776\n",
            "222  X  9  =  1998\n",
            "222  X  10  =  2220\n"
          ]
        }
      ]
    },
    {
      "cell_type": "markdown",
      "source": [
        "#For Loop\n",
        "Repeat for a fixed number of times in a sequence\n",
        "\n",
        "you know exactly how many times to repeat"
      ],
      "metadata": {
        "id": "V1vYD0OFMJhu"
      }
    },
    {
      "cell_type": "code",
      "source": [
        "students = [\"Ali\", \"Ahmed\",\"Zara\", \"Kashif\"]\n",
        "print(len(students))\n",
        "\n",
        "for name in students:\n",
        "  print(\"Welcome \",name)"
      ],
      "metadata": {
        "colab": {
          "base_uri": "https://localhost:8080/"
        },
        "id": "P9qLHc-AMJIC",
        "outputId": "65c56cd5-0584-4db1-d332-833a8c4128b0"
      },
      "execution_count": 13,
      "outputs": [
        {
          "output_type": "stream",
          "name": "stdout",
          "text": [
            "4\n",
            "Welcome  Ali\n",
            "Welcome  Ahmed\n",
            "Welcome  Zara\n",
            "Welcome  Kashif\n"
          ]
        }
      ]
    },
    {
      "cell_type": "code",
      "source": [
        "for i in range(10): # 0 - 9\n",
        "  print(i)"
      ],
      "metadata": {
        "colab": {
          "base_uri": "https://localhost:8080/"
        },
        "collapsed": true,
        "id": "aoBlfUKrNqOs",
        "outputId": "76351527-1600-4a61-c2da-4328103d58d3"
      },
      "execution_count": 17,
      "outputs": [
        {
          "output_type": "stream",
          "name": "stdout",
          "text": [
            "0\n",
            "1\n",
            "2\n",
            "3\n",
            "4\n",
            "5\n",
            "6\n",
            "7\n",
            "8\n",
            "9\n"
          ]
        }
      ]
    },
    {
      "cell_type": "code",
      "source": [
        "for i in range(5,10):\n",
        "  print(i)"
      ],
      "metadata": {
        "colab": {
          "base_uri": "https://localhost:8080/"
        },
        "id": "bim6K9u5N0wq",
        "outputId": "dcdc8174-636c-4f80-a79d-795b78be1b11"
      },
      "execution_count": 19,
      "outputs": [
        {
          "output_type": "stream",
          "name": "stdout",
          "text": [
            "5\n",
            "6\n",
            "7\n",
            "8\n",
            "9\n"
          ]
        }
      ]
    },
    {
      "cell_type": "code",
      "source": [
        "for i in range(3, 20, 3):\n",
        "  print(i)"
      ],
      "metadata": {
        "colab": {
          "base_uri": "https://localhost:8080/"
        },
        "id": "cnvrSLJ8N_q0",
        "outputId": "8115d466-a431-4d1e-8f00-38a345e5ba1f"
      },
      "execution_count": 21,
      "outputs": [
        {
          "output_type": "stream",
          "name": "stdout",
          "text": [
            "3\n",
            "6\n",
            "9\n",
            "12\n",
            "15\n",
            "18\n"
          ]
        }
      ]
    },
    {
      "cell_type": "code",
      "source": [
        "total = 0\n",
        "\n",
        "for i in range(6):\n",
        "  print(\"value of i \",i)\n",
        "  print(total, \" + \", i)\n",
        "  total = total + i\n",
        "  print(\"value of total\",total)"
      ],
      "metadata": {
        "colab": {
          "base_uri": "https://localhost:8080/"
        },
        "collapsed": true,
        "id": "fvb439yEM3bI",
        "outputId": "814bc037-e850-4d2b-942a-be6a984c5de6"
      },
      "execution_count": 24,
      "outputs": [
        {
          "output_type": "stream",
          "name": "stdout",
          "text": [
            "value of i  0\n",
            "0  +  0\n",
            "value of total 0\n",
            "value of i  1\n",
            "0  +  1\n",
            "value of total 1\n",
            "value of i  2\n",
            "1  +  2\n",
            "value of total 3\n",
            "value of i  3\n",
            "3  +  3\n",
            "value of total 6\n",
            "value of i  4\n",
            "6  +  4\n",
            "value of total 10\n",
            "value of i  5\n",
            "10  +  5\n",
            "value of total 15\n"
          ]
        }
      ]
    },
    {
      "cell_type": "code",
      "source": [
        "for i in range(6):\n",
        "  total = 0\n",
        "  print(\"value of i \",i)\n",
        "  print(total, \" + \", i)\n",
        "  total = total + i\n",
        "  print(\"value of total\",total)"
      ],
      "metadata": {
        "colab": {
          "base_uri": "https://localhost:8080/"
        },
        "id": "_46-A8TBPPmW",
        "outputId": "ea9e8d3a-fa77-406e-fd11-505dca906d01"
      },
      "execution_count": 25,
      "outputs": [
        {
          "output_type": "stream",
          "name": "stdout",
          "text": [
            "value of i  0\n",
            "0  +  0\n",
            "value of total 0\n",
            "value of i  1\n",
            "0  +  1\n",
            "value of total 1\n",
            "value of i  2\n",
            "0  +  2\n",
            "value of total 2\n",
            "value of i  3\n",
            "0  +  3\n",
            "value of total 3\n",
            "value of i  4\n",
            "0  +  4\n",
            "value of total 4\n",
            "value of i  5\n",
            "0  +  5\n",
            "value of total 5\n"
          ]
        }
      ]
    },
    {
      "cell_type": "code",
      "source": [
        "command = \"\"\n",
        "\n",
        "while command != \"exit\":\n",
        "  name = input(\"Enter your name: \")\n",
        "\n",
        "  marks_in_eng = int(input(\"Enter your marks in English: \"))\n",
        "  marks_in_math = int(input(\"Enter your marks in Mathematics: \"))\n",
        "  marks_in_urdu = int(input(\"Enter your marks in Urdu: \"))\n",
        "\n",
        "  obtained_marks = marks_in_eng + marks_in_math + marks_in_urdu\n",
        "\n",
        "  percentage = (obtained_marks / 300) * 100\n",
        "\n",
        "  print(\"Name: \",name)\n",
        "  print(\"Obtained Marks: \",obtained_marks)\n",
        "  print(\"Percentage: \",percentage)\n",
        "\n",
        "  command = input(\"Enter 'exit' to exit or any key to continue: \")"
      ],
      "metadata": {
        "colab": {
          "base_uri": "https://localhost:8080/"
        },
        "id": "igpZl57SPa1C",
        "outputId": "b9222a35-3b3c-4ac8-cc93-b3e4b28552f1"
      },
      "execution_count": 28,
      "outputs": [
        {
          "name": "stdout",
          "output_type": "stream",
          "text": [
            "Enter your name: israr\n",
            "Enter your marks in English: 45\n",
            "Enter your marks in Mathematics: 56\n",
            "Enter your marks in Urdu: 63\n",
            "Name:  israr\n",
            "Obtained Marks:  164\n",
            "Percentage:  54.666666666666664\n",
            "Enter 'exit' to exit or any key to continue: a\n",
            "Enter your name: waseem\n",
            "Enter your marks in English: 12\n",
            "Enter your marks in Mathematics: 34\n",
            "Enter your marks in Urdu: 45\n",
            "Name:  waseem\n",
            "Obtained Marks:  91\n",
            "Percentage:  30.333333333333336\n",
            "Enter 'exit' to exit or any key to continue: p\n",
            "Enter your name: naseem\n",
            "Enter your marks in English: 12\n",
            "Enter your marks in Mathematics: 34\n",
            "Enter your marks in Urdu: 45\n",
            "Name:  naseem\n",
            "Obtained Marks:  91\n",
            "Percentage:  30.333333333333336\n",
            "Enter 'exit' to exit or any key to continue: exit\n"
          ]
        }
      ]
    },
    {
      "cell_type": "markdown",
      "source": [
        "# break"
      ],
      "metadata": {
        "id": "zmmVMn4nRTak"
      }
    },
    {
      "cell_type": "code",
      "source": [
        "numbers = [1,3,7,8,9,10]\n",
        "\n",
        "for num in numbers:\n",
        "  if num % 2 == 0:\n",
        "    print(\"First even number in the list is \",num)\n",
        "    break;"
      ],
      "metadata": {
        "colab": {
          "base_uri": "https://localhost:8080/"
        },
        "id": "grhkZHaTRK-4",
        "outputId": "cc45970a-e461-4f6a-c376-31dd0363f70f"
      },
      "execution_count": 32,
      "outputs": [
        {
          "output_type": "stream",
          "name": "stdout",
          "text": [
            "First even number in the list is  8\n"
          ]
        }
      ]
    },
    {
      "cell_type": "markdown",
      "source": [
        "#continue"
      ],
      "metadata": {
        "id": "s6JITeFoSXce"
      }
    },
    {
      "cell_type": "code",
      "source": [
        "for i in range(1,10):\n",
        "  if i % 2 == 0:\n",
        "    print(i)"
      ],
      "metadata": {
        "colab": {
          "base_uri": "https://localhost:8080/"
        },
        "id": "a_PjbKYHSVyw",
        "outputId": "f9ad8ab7-4fac-442d-c2fb-2a83b81bb3dc"
      },
      "execution_count": 35,
      "outputs": [
        {
          "output_type": "stream",
          "name": "stdout",
          "text": [
            "2\n",
            "4\n",
            "6\n",
            "8\n"
          ]
        }
      ]
    },
    {
      "cell_type": "code",
      "source": [
        "for i in range(1,10):\n",
        "  if i % 2 != 0:#skip odd\n",
        "    continue\n",
        "\n",
        "  print(i)"
      ],
      "metadata": {
        "colab": {
          "base_uri": "https://localhost:8080/"
        },
        "id": "fQeV1r5eSvmR",
        "outputId": "026ca588-8325-4007-ec81-31484b7391d5"
      },
      "execution_count": 36,
      "outputs": [
        {
          "output_type": "stream",
          "name": "stdout",
          "text": [
            "2\n",
            "4\n",
            "6\n",
            "8\n"
          ]
        }
      ]
    },
    {
      "cell_type": "code",
      "source": [
        "import random\n",
        "\n",
        "secret_number = random.randint(1, 10)\n",
        "\n",
        "while True:\n",
        "    guess = int(input(\"Guess the secret number (between 1 and 10): \"))\n",
        "    if guess == secret_number:\n",
        "        print(\"Congratulations! You guessed the correct number.\")\n",
        "        break\n",
        "    else:\n",
        "        print(\"Incorrect guess. Try again. \")"
      ],
      "metadata": {
        "colab": {
          "base_uri": "https://localhost:8080/"
        },
        "id": "L-LvJPssUMll",
        "outputId": "3c449194-ce56-40cc-a3bd-8be355f0d1bb"
      },
      "execution_count": 38,
      "outputs": [
        {
          "output_type": "stream",
          "name": "stdout",
          "text": [
            "Guess the secret number (between 1 and 10): 1\n",
            "Incorrect guess. Try again. \n",
            "Guess the secret number (between 1 and 10): 2\n",
            "Incorrect guess. Try again. \n",
            "Guess the secret number (between 1 and 10): 3\n",
            "Incorrect guess. Try again. \n",
            "Guess the secret number (between 1 and 10): 4\n",
            "Incorrect guess. Try again. \n",
            "Guess the secret number (between 1 and 10): 5\n",
            "Incorrect guess. Try again. \n",
            "Guess the secret number (between 1 and 10): 6\n",
            "Incorrect guess. Try again. \n",
            "Guess the secret number (between 1 and 10): 7\n",
            "Incorrect guess. Try again. \n",
            "Guess the secret number (between 1 and 10): 8\n",
            "Incorrect guess. Try again. \n",
            "Guess the secret number (between 1 and 10): 9\n",
            "Incorrect guess. Try again. \n",
            "Guess the secret number (between 1 and 10): 10\n",
            "Congratulations! You guessed the correct number.\n"
          ]
        }
      ]
    }
  ]
}