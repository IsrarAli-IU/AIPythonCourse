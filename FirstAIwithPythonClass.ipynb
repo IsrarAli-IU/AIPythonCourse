{
  "nbformat": 4,
  "nbformat_minor": 0,
  "metadata": {
    "colab": {
      "provenance": []
    },
    "kernelspec": {
      "name": "python3",
      "display_name": "Python 3"
    },
    "language_info": {
      "name": "python"
    }
  },
  "cells": [
    {
      "cell_type": "markdown",
      "source": [
        "#AI with Python\n",
        "This is our First Class , and date is 23rd June 2025.\n",
        "**Welcome to the Course**"
      ],
      "metadata": {
        "id": "SyRv8sQdjqTV"
      }
    },
    {
      "cell_type": "markdown",
      "source": [
        "#how to print some text in Python"
      ],
      "metadata": {
        "id": "gSQMmzH9kQzx"
      }
    },
    {
      "cell_type": "code",
      "source": [
        "print(\"This is our first text printing in this course\")"
      ],
      "metadata": {
        "colab": {
          "base_uri": "https://localhost:8080/"
        },
        "id": "7cW0Wa1qkTzK",
        "outputId": "92ee5786-f45f-4029-e824-cd3a47b07ba0"
      },
      "execution_count": 2,
      "outputs": [
        {
          "output_type": "stream",
          "name": "stdout",
          "text": [
            "This is our first text printing in this course\n"
          ]
        }
      ]
    },
    {
      "cell_type": "markdown",
      "source": [
        "## Data Types in Python\n"
      ],
      "metadata": {
        "id": "vv_6-mYTkDtY"
      }
    },
    {
      "cell_type": "markdown",
      "source": [
        "#Text data\n",
        "  ## String\n",
        "#Numbers\n",
        "  ## whole number (1,2,4...)\n",
        "    ### integer\n",
        "  ## fractions\n",
        "    ### float  ( 1.5, 2.5)\n"
      ],
      "metadata": {
        "id": "z9iBlAHkk15o"
      }
    },
    {
      "cell_type": "code",
      "execution_count": 3,
      "metadata": {
        "colab": {
          "base_uri": "https://localhost:8080/"
        },
        "id": "_OB1SphSjaEx",
        "outputId": "6f728541-95d9-4f36-8aad-81fc98921a5f"
      },
      "outputs": [
        {
          "output_type": "stream",
          "name": "stdout",
          "text": [
            "10\n"
          ]
        }
      ],
      "source": [
        "i = 10  # statement\n",
        "# i is variable\n",
        "# = is an operator\n",
        "# 10 is a constant\n",
        "# 10 is assigned to integer variable i\n",
        "print(i)  # it is printing value of variable i"
      ]
    },
    {
      "cell_type": "code",
      "source": [
        "i = 10\n",
        "j = 10.5\n",
        "k ='Israr Ali'\n",
        "\n",
        "print(type(i))\n",
        "print(type(j))\n",
        "print(type(k))\n"
      ],
      "metadata": {
        "colab": {
          "base_uri": "https://localhost:8080/"
        },
        "id": "C6zX6iBjoDQU",
        "outputId": "6e6e7585-c253-451a-c1ac-652a83183f20"
      },
      "execution_count": 5,
      "outputs": [
        {
          "output_type": "stream",
          "name": "stdout",
          "text": [
            "<class 'int'>\n",
            "<class 'float'>\n",
            "<class 'str'>\n"
          ]
        }
      ]
    },
    {
      "cell_type": "code",
      "source": [
        "#1. String Textual data\n",
        "student_name = \"Israr Ali\" # String - > str\n",
        "#2. whole number\n",
        "student_age = 21 # Integer # int\n",
        "#3. decimal number\n",
        "student_gpa = 3.87 # float\n",
        "print(type(student_name))\n",
        "print(type(student_age))\n",
        "print(type(student_gpa))\n",
        "student_name = 3.3\n",
        "print(student_name)\n",
        "print(type(student_name))"
      ],
      "metadata": {
        "colab": {
          "base_uri": "https://localhost:8080/"
        },
        "id": "VfbAbw5TpwMJ",
        "outputId": "a7f59434-bd76-4860-8168-ae35b2d08f1a"
      },
      "execution_count": 10,
      "outputs": [
        {
          "output_type": "stream",
          "name": "stdout",
          "text": [
            "<class 'str'>\n",
            "<class 'int'>\n",
            "<class 'float'>\n",
            "3.3\n",
            "<class 'float'>\n"
          ]
        }
      ]
    },
    {
      "cell_type": "code",
      "source": [
        "# boolean data type\n",
        "#4. status\n",
        "is_enrolled = False # this is boolean data type\n",
        "print(type(is_enrolled))\n",
        "print(is_enrolled)"
      ],
      "metadata": {
        "colab": {
          "base_uri": "https://localhost:8080/"
        },
        "id": "MnzM7G1eqTqA",
        "outputId": "36db5454-3d20-4d0d-af7f-b82fda9a72ce"
      },
      "execution_count": 8,
      "outputs": [
        {
          "output_type": "stream",
          "name": "stdout",
          "text": [
            "<class 'bool'>\n",
            "False\n"
          ]
        }
      ]
    },
    {
      "cell_type": "code",
      "source": [
        "# List data type\n",
        "#5. collection of values (changeable)\n",
        "subjects = ['Urdu','English','AI','Python']\n",
        "print(subjects)\n",
        "print(type(subjects))"
      ],
      "metadata": {
        "colab": {
          "base_uri": "https://localhost:8080/"
        },
        "id": "5TlYl7luqjP7",
        "outputId": "75e272ce-9952-4078-a078-d65f2e7509c7"
      },
      "execution_count": 13,
      "outputs": [
        {
          "output_type": "stream",
          "name": "stdout",
          "text": [
            "['Urdu', 'English', 'AI', 'Python']\n",
            "<class 'list'>\n"
          ]
        }
      ]
    },
    {
      "cell_type": "code",
      "source": [
        "# Tuple data type\n",
        "#6. collection of value (Fixed)\n",
        "dob = (2013,12,12)\n",
        "print(dob)\n",
        "print(type(dob))\n"
      ],
      "metadata": {
        "colab": {
          "base_uri": "https://localhost:8080/"
        },
        "id": "HNAMuSNmrh7J",
        "outputId": "9e53e658-073c-4527-91c9-09d7342a8f18"
      },
      "execution_count": 12,
      "outputs": [
        {
          "output_type": "stream",
          "name": "stdout",
          "text": [
            "(2013, 12, 12)\n",
            "<class 'tuple'>\n"
          ]
        }
      ]
    },
    {
      "cell_type": "code",
      "source": [
        "# Set data type\n",
        "#7. collection of values (Unique)\n",
        "activities = {'sleeping','eating','playing'}\n",
        "print(activities)\n",
        "print(type(activities))\n"
      ],
      "metadata": {
        "colab": {
          "base_uri": "https://localhost:8080/"
        },
        "id": "FGWQPwazr7m7",
        "outputId": "867b8938-4380-49d9-9610-ec14e2bd676a"
      },
      "execution_count": 14,
      "outputs": [
        {
          "output_type": "stream",
          "name": "stdout",
          "text": [
            "{'playing', 'eating', 'sleeping'}\n",
            "<class 'set'>\n"
          ]
        }
      ]
    },
    {
      "cell_type": "code",
      "source": [
        "# Dictionary data type\n",
        "#8. key -value pair\n",
        "profile = {'name':'Israr Ali','age':21,'gpa':3.87}\n",
        "print(profile)\n",
        "print(type(profile))"
      ],
      "metadata": {
        "colab": {
          "base_uri": "https://localhost:8080/"
        },
        "id": "7xPYQfTSsUEO",
        "outputId": "6e4a71c7-103a-424a-ba57-a5064c594c1a"
      },
      "execution_count": 15,
      "outputs": [
        {
          "output_type": "stream",
          "name": "stdout",
          "text": [
            "{'name': 'Israr Ali', 'age': 21, 'gpa': 3.87}\n",
            "<class 'dict'>\n"
          ]
        }
      ]
    }
  ]
}