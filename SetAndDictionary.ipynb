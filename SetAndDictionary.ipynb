{
  "nbformat": 4,
  "nbformat_minor": 0,
  "metadata": {
    "colab": {
      "provenance": []
    },
    "kernelspec": {
      "name": "python3",
      "display_name": "Python 3"
    },
    "language_info": {
      "name": "python"
    }
  },
  "cells": [
    {
      "cell_type": "markdown",
      "source": [
        "#Set\n",
        "\n",
        "- Unordered\n",
        "- Unique\n",
        "- Changeable"
      ],
      "metadata": {
        "id": "W5A7Uaa_LyQY"
      }
    },
    {
      "cell_type": "code",
      "execution_count": 1,
      "metadata": {
        "colab": {
          "base_uri": "https://localhost:8080/"
        },
        "id": "eZc9ASw_Lna9",
        "outputId": "124c30c6-1cd1-4096-a8c2-2ed3b78ec389"
      },
      "outputs": [
        {
          "output_type": "stream",
          "name": "stdout",
          "text": [
            "{'Math', 'Python', 'AI'}\n"
          ]
        }
      ],
      "source": [
        "Courses = {\"Python\", \"Math\", \"AI\", \"Math\", \"Python\"}\n",
        "\n",
        "print(Courses)"
      ]
    },
    {
      "cell_type": "code",
      "source": [
        "Courses.add(\"Deep Learning\")\n",
        "\n",
        "print(Courses)"
      ],
      "metadata": {
        "colab": {
          "base_uri": "https://localhost:8080/"
        },
        "id": "pWn74nt4MhLh",
        "outputId": "6c9bcb19-8930-435d-b555-095c2014ac88"
      },
      "execution_count": 2,
      "outputs": [
        {
          "output_type": "stream",
          "name": "stdout",
          "text": [
            "{'Deep Learning', 'Math', 'Python', 'AI'}\n"
          ]
        }
      ]
    },
    {
      "cell_type": "code",
      "source": [
        "Courses.discard(\"Python\")\n",
        "print(Courses)"
      ],
      "metadata": {
        "colab": {
          "base_uri": "https://localhost:8080/"
        },
        "id": "8u-RjnIxMlRU",
        "outputId": "3ad99300-f017-4dbd-e672-b5145c2387ad"
      },
      "execution_count": 3,
      "outputs": [
        {
          "output_type": "stream",
          "name": "stdout",
          "text": [
            "{'Deep Learning', 'Math', 'AI'}\n"
          ]
        }
      ]
    },
    {
      "cell_type": "code",
      "source": [
        "OtherCourses = {\"Machine Learning\", \"Generative AI\", \"Deep Learning\"}\n",
        "print(OtherCourses)"
      ],
      "metadata": {
        "colab": {
          "base_uri": "https://localhost:8080/"
        },
        "id": "36UMfFxtMx2b",
        "outputId": "80ecf976-049d-4245-89fd-bd76e2ea81cd"
      },
      "execution_count": 9,
      "outputs": [
        {
          "output_type": "stream",
          "name": "stdout",
          "text": [
            "{'Generative AI', 'Machine Learning', 'Deep Learning'}\n"
          ]
        }
      ]
    },
    {
      "cell_type": "code",
      "source": [
        "CommonCourses = Courses.intersection(OtherCourses)\n",
        "print(CommonCourses)"
      ],
      "metadata": {
        "colab": {
          "base_uri": "https://localhost:8080/"
        },
        "id": "FUOPcsm0M66I",
        "outputId": "c7d1ae1f-70b0-410f-e0f8-0683b1b31164"
      },
      "execution_count": 11,
      "outputs": [
        {
          "output_type": "stream",
          "name": "stdout",
          "text": [
            "{'Deep Learning'}\n"
          ]
        }
      ]
    },
    {
      "cell_type": "code",
      "source": [
        "AllCourses = Courses.union(OtherCourses)\n",
        "print(AllCourses)"
      ],
      "metadata": {
        "colab": {
          "base_uri": "https://localhost:8080/"
        },
        "id": "Z6w9zNwAN26j",
        "outputId": "a9756a27-da5e-4afb-dc25-fe9b9cd49d8c"
      },
      "execution_count": 12,
      "outputs": [
        {
          "output_type": "stream",
          "name": "stdout",
          "text": [
            "{'Generative AI', 'AI', 'Machine Learning', 'Math', 'Deep Learning'}\n"
          ]
        }
      ]
    },
    {
      "cell_type": "code",
      "source": [
        "diff = Courses.difference(OtherCourses)\n",
        "print(diff)"
      ],
      "metadata": {
        "colab": {
          "base_uri": "https://localhost:8080/"
        },
        "id": "364QmFLFN8Fx",
        "outputId": "93009bab-d757-4a72-b656-7dcb190f8b44"
      },
      "execution_count": 13,
      "outputs": [
        {
          "output_type": "stream",
          "name": "stdout",
          "text": [
            "{'Math', 'AI'}\n"
          ]
        }
      ]
    },
    {
      "cell_type": "code",
      "source": [
        "print(Courses.issubset(OtherCourses))"
      ],
      "metadata": {
        "colab": {
          "base_uri": "https://localhost:8080/"
        },
        "id": "qDgcR7JdOM1L",
        "outputId": "e18ada1b-f644-4d9d-85e0-57dffa462271"
      },
      "execution_count": 14,
      "outputs": [
        {
          "output_type": "stream",
          "name": "stdout",
          "text": [
            "False\n"
          ]
        }
      ]
    },
    {
      "cell_type": "code",
      "source": [
        "NewSet = {\"AI\"}\n",
        "\n",
        "print(NewSet.issubset(Courses))\n",
        "print(Courses.issuperset(NewSet))"
      ],
      "metadata": {
        "colab": {
          "base_uri": "https://localhost:8080/"
        },
        "id": "gnQlJdBiOTgE",
        "outputId": "9c649ae9-688b-4d76-c723-ed2bb311651c"
      },
      "execution_count": 16,
      "outputs": [
        {
          "output_type": "stream",
          "name": "stdout",
          "text": [
            "True\n",
            "True\n"
          ]
        }
      ]
    },
    {
      "cell_type": "markdown",
      "source": [
        "#Dictionary\n",
        "\n",
        "used to store data values in pairs."
      ],
      "metadata": {
        "id": "ifPtyGoEO3Y2"
      }
    },
    {
      "cell_type": "code",
      "source": [
        "student ={\n",
        "    \"name\":\"Ali\",\n",
        "    \"age\": 66,\n",
        "    \"grade\": \"A\",\n",
        "    \"subjects\": [\"Math\",\"Physics\",\"Chemistry\"]\n",
        "}\n",
        "\n",
        "print(student)\n"
      ],
      "metadata": {
        "colab": {
          "base_uri": "https://localhost:8080/"
        },
        "id": "scwcXp9bPCLr",
        "outputId": "2c9434cd-d427-4545-c353-63d8521f5988"
      },
      "execution_count": 29,
      "outputs": [
        {
          "output_type": "stream",
          "name": "stdout",
          "text": [
            "{'name': 'Ali', 'age': 66, 'grade': 'A', 'subjects': ['Math', 'Physics', 'Chemistry']}\n"
          ]
        }
      ]
    },
    {
      "cell_type": "code",
      "source": [
        "print(student[\"name\"])"
      ],
      "metadata": {
        "colab": {
          "base_uri": "https://localhost:8080/"
        },
        "id": "vTNsmtQ4Pdsd",
        "outputId": "00d3ec33-7024-4075-c9ba-c00d17bc5641"
      },
      "execution_count": 30,
      "outputs": [
        {
          "output_type": "stream",
          "name": "stdout",
          "text": [
            "Ali\n"
          ]
        }
      ]
    },
    {
      "cell_type": "code",
      "source": [
        "print(student[\"subjects\"])"
      ],
      "metadata": {
        "colab": {
          "base_uri": "https://localhost:8080/"
        },
        "id": "lR2yP_mLPg7f",
        "outputId": "d90a9598-aec7-4e8b-8e04-c82aea4ac282"
      },
      "execution_count": 31,
      "outputs": [
        {
          "output_type": "stream",
          "name": "stdout",
          "text": [
            "['Math', 'Physics', 'Chemistry']\n"
          ]
        }
      ]
    },
    {
      "cell_type": "code",
      "source": [
        "print(student.get(\"age\"))"
      ],
      "metadata": {
        "colab": {
          "base_uri": "https://localhost:8080/"
        },
        "id": "Iq-l2EyrPmrD",
        "outputId": "4a90239a-380d-4668-ea86-6f72c5fbbbf5"
      },
      "execution_count": 32,
      "outputs": [
        {
          "output_type": "stream",
          "name": "stdout",
          "text": [
            "66\n"
          ]
        }
      ]
    },
    {
      "cell_type": "code",
      "source": [
        "print(student.get(\"grade\"))"
      ],
      "metadata": {
        "colab": {
          "base_uri": "https://localhost:8080/"
        },
        "id": "2B92tpygPsWk",
        "outputId": "428803ca-d4ba-42bc-a552-0a79307baaa1"
      },
      "execution_count": 23,
      "outputs": [
        {
          "output_type": "stream",
          "name": "stdout",
          "text": [
            "A\n"
          ]
        }
      ]
    },
    {
      "cell_type": "code",
      "source": [
        "student[\"age\"] = 86\n",
        "print(student.get(\"age\"))"
      ],
      "metadata": {
        "colab": {
          "base_uri": "https://localhost:8080/"
        },
        "id": "J2F7sPC7P5TG",
        "outputId": "3b9da995-44d6-4dd4-df7a-35014ad24c10"
      },
      "execution_count": 33,
      "outputs": [
        {
          "output_type": "stream",
          "name": "stdout",
          "text": [
            "86\n"
          ]
        }
      ]
    },
    {
      "cell_type": "code",
      "source": [
        "del student[\"grade\"]\n",
        "print(student)"
      ],
      "metadata": {
        "colab": {
          "base_uri": "https://localhost:8080/"
        },
        "id": "dHxE846eQEUW",
        "outputId": "993d2d0a-dbae-4d22-ebf8-c6cc1274ff06"
      },
      "execution_count": 34,
      "outputs": [
        {
          "output_type": "stream",
          "name": "stdout",
          "text": [
            "{'name': 'Ali', 'age': 86, 'subjects': ['Math', 'Physics', 'Chemistry']}\n"
          ]
        }
      ]
    },
    {
      "cell_type": "code",
      "source": [
        "#del student\n",
        "#print(student)"
      ],
      "metadata": {
        "id": "Mkj8zG9uQOXf"
      },
      "execution_count": 35,
      "outputs": []
    },
    {
      "cell_type": "code",
      "source": [
        "print(student)"
      ],
      "metadata": {
        "colab": {
          "base_uri": "https://localhost:8080/"
        },
        "id": "q2S_oTfmQzRE",
        "outputId": "1af6e862-a2ed-4a7d-b528-197108efc144"
      },
      "execution_count": 36,
      "outputs": [
        {
          "output_type": "stream",
          "name": "stdout",
          "text": [
            "{'name': 'Ali', 'age': 86, 'subjects': ['Math', 'Physics', 'Chemistry']}\n"
          ]
        }
      ]
    },
    {
      "cell_type": "code",
      "source": [
        "for key in student:\n",
        "  print(key)"
      ],
      "metadata": {
        "colab": {
          "base_uri": "https://localhost:8080/"
        },
        "id": "ACXuj7riQ3LT",
        "outputId": "53472af1-b9e5-42dc-c255-bc11a7a91153"
      },
      "execution_count": 37,
      "outputs": [
        {
          "output_type": "stream",
          "name": "stdout",
          "text": [
            "name\n",
            "age\n",
            "subjects\n"
          ]
        }
      ]
    },
    {
      "cell_type": "code",
      "source": [
        "for value in student.values():\n",
        "  print(value)"
      ],
      "metadata": {
        "colab": {
          "base_uri": "https://localhost:8080/"
        },
        "id": "kLqvlcBCQ8eV",
        "outputId": "0b83ebc3-bed4-4964-b321-807d21aedd07"
      },
      "execution_count": 38,
      "outputs": [
        {
          "output_type": "stream",
          "name": "stdout",
          "text": [
            "Ali\n",
            "86\n",
            "['Math', 'Physics', 'Chemistry']\n"
          ]
        }
      ]
    },
    {
      "cell_type": "code",
      "source": [
        "for key, value in student.items():\n",
        "  print(key, value)"
      ],
      "metadata": {
        "colab": {
          "base_uri": "https://localhost:8080/"
        },
        "id": "WprmBso3RBVo",
        "outputId": "0c700466-a0c1-4bec-fb27-112b91562e3f"
      },
      "execution_count": 40,
      "outputs": [
        {
          "output_type": "stream",
          "name": "stdout",
          "text": [
            "name Ali\n",
            "age 86\n",
            "subjects ['Math', 'Physics', 'Chemistry']\n"
          ]
        }
      ]
    },
    {
      "cell_type": "code",
      "source": [
        "student = {\n",
        "    \"name\": \"Israr\",\n",
        "    \"age\": 55,\n",
        "    \"marks\": {\n",
        "        \"math\": 90,\n",
        "        \"science\": 80,\n",
        "        \"english\": 70\n",
        "    }\n",
        "}\n",
        "print(student)\n"
      ],
      "metadata": {
        "colab": {
          "base_uri": "https://localhost:8080/"
        },
        "id": "_Haxjpt1RPa0",
        "outputId": "59ecda0f-86c2-4272-e96a-08b4020c4e03"
      },
      "execution_count": 41,
      "outputs": [
        {
          "output_type": "stream",
          "name": "stdout",
          "text": [
            "{'name': 'Israr', 'age': 55, 'marks': {'math': 90, 'science': 80, 'english': 70}}\n"
          ]
        }
      ]
    },
    {
      "cell_type": "code",
      "source": [
        "print(student[\"name\"])"
      ],
      "metadata": {
        "colab": {
          "base_uri": "https://localhost:8080/"
        },
        "id": "97XhEEdDRtd1",
        "outputId": "deefaa96-1456-429d-9b5f-a43e1b8bb8b7"
      },
      "execution_count": 42,
      "outputs": [
        {
          "output_type": "stream",
          "name": "stdout",
          "text": [
            "Israr\n"
          ]
        }
      ]
    },
    {
      "cell_type": "code",
      "source": [
        "print(student[\"age\"])"
      ],
      "metadata": {
        "colab": {
          "base_uri": "https://localhost:8080/"
        },
        "id": "WFaaiaDCRxSs",
        "outputId": "22d1deff-3474-4ec4-9433-b6d56c2e9e20"
      },
      "execution_count": 43,
      "outputs": [
        {
          "output_type": "stream",
          "name": "stdout",
          "text": [
            "55\n"
          ]
        }
      ]
    },
    {
      "cell_type": "code",
      "source": [
        "print(student[\"marks\"])"
      ],
      "metadata": {
        "colab": {
          "base_uri": "https://localhost:8080/"
        },
        "id": "nnQ1sFOVR0QJ",
        "outputId": "2150b46b-6d41-4968-80fe-31399f1e5dfa"
      },
      "execution_count": 44,
      "outputs": [
        {
          "output_type": "stream",
          "name": "stdout",
          "text": [
            "{'math': 90, 'science': 80, 'english': 70}\n"
          ]
        }
      ]
    },
    {
      "cell_type": "code",
      "source": [
        "print(student[\"marks\"][\"math\"])"
      ],
      "metadata": {
        "colab": {
          "base_uri": "https://localhost:8080/"
        },
        "id": "LWyHJv7WR4kq",
        "outputId": "2eef4a08-7efd-431c-9993-cc81a127beec"
      },
      "execution_count": 47,
      "outputs": [
        {
          "output_type": "stream",
          "name": "stdout",
          "text": [
            "90\n"
          ]
        }
      ]
    },
    {
      "cell_type": "code",
      "source": [
        "list1 = [\"AI\", \"GI\", \"ML\"]\n",
        "\n",
        "print(list1[0])"
      ],
      "metadata": {
        "colab": {
          "base_uri": "https://localhost:8080/"
        },
        "id": "JjgOBCYbR7CR",
        "outputId": "f3dc927c-0c50-456a-d52d-0c81d7565c90"
      },
      "execution_count": 48,
      "outputs": [
        {
          "output_type": "stream",
          "name": "stdout",
          "text": [
            "AI\n"
          ]
        }
      ]
    },
    {
      "cell_type": "code",
      "source": [
        "dict1 = {\n",
        "    \"crs1\": \"AI\",\n",
        "    \"crs2\": \"GI\",\n",
        "    \"crs3\": \"ML\"\n",
        "}\n",
        "\n",
        "print(dict1[\"crs1\"])\n"
      ],
      "metadata": {
        "colab": {
          "base_uri": "https://localhost:8080/"
        },
        "id": "QYcMCdIlSVtP",
        "outputId": "348d5295-e6f1-4152-df81-d370219b4500"
      },
      "execution_count": 51,
      "outputs": [
        {
          "output_type": "stream",
          "name": "stdout",
          "text": [
            "AI\n"
          ]
        }
      ]
    },
    {
      "cell_type": "code",
      "source": [
        "attendace = {\n",
        "    \"student1\": [1,1,0,1],\n",
        "    \"student2\": [0,1,1,1],\n",
        "    \"student3\": [1,1,1,1]\n",
        "}\n",
        "\n",
        "print(attendace)\n"
      ],
      "metadata": {
        "colab": {
          "base_uri": "https://localhost:8080/"
        },
        "id": "6ZvqV_EOSpeG",
        "outputId": "83e9740f-30d9-4a28-b598-4e9c76e023d9"
      },
      "execution_count": 52,
      "outputs": [
        {
          "output_type": "stream",
          "name": "stdout",
          "text": [
            "{'student1': [1, 1, 0, 1], 'student2': [0, 1, 1, 1], 'student3': [1, 1, 1, 1]}\n"
          ]
        }
      ]
    },
    {
      "cell_type": "code",
      "source": [
        "for key, value in attendace.items():\n",
        "  print(key,\" = > \", value)"
      ],
      "metadata": {
        "colab": {
          "base_uri": "https://localhost:8080/"
        },
        "id": "XtLi7YxUS1dw",
        "outputId": "0cc57e48-04b8-4c00-f399-9234e4223e24"
      },
      "execution_count": 54,
      "outputs": [
        {
          "output_type": "stream",
          "name": "stdout",
          "text": [
            "student1  = >  [1, 1, 0, 1]\n",
            "student2  = >  [0, 1, 1, 1]\n",
            "student3  = >  [1, 1, 1, 1]\n"
          ]
        }
      ]
    },
    {
      "cell_type": "code",
      "source": [
        "for name,record in attendace.items():\n",
        "  total = sum(record)\n",
        "  print(name, \" attended \", total/ 4 , \" days\")"
      ],
      "metadata": {
        "colab": {
          "base_uri": "https://localhost:8080/"
        },
        "id": "_CK40ycYS94W",
        "outputId": "524e324c-8721-4f61-d8a7-325a603d375b"
      },
      "execution_count": 56,
      "outputs": [
        {
          "output_type": "stream",
          "name": "stdout",
          "text": [
            "student1  attended  0.75  days\n",
            "student2  attended  0.75  days\n",
            "student3  attended  1.0  days\n"
          ]
        }
      ]
    }
  ]
}