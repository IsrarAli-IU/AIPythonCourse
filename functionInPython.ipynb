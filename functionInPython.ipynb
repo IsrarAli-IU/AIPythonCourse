{
  "nbformat": 4,
  "nbformat_minor": 0,
  "metadata": {
    "colab": {
      "provenance": []
    },
    "kernelspec": {
      "name": "python3",
      "display_name": "Python 3"
    },
    "language_info": {
      "name": "python"
    }
  },
  "cells": [
    {
      "cell_type": "markdown",
      "source": [
        "#function\n",
        "functions help organize code into reusable blocks.\n",
        "\n",
        "- clean\n",
        "- modular\n",
        "- reusable"
      ],
      "metadata": {
        "id": "Buubu_kcvczv"
      }
    },
    {
      "cell_type": "markdown",
      "source": [
        "function  = head + body\n",
        "\n",
        "function head = name+ parameters"
      ],
      "metadata": {
        "id": "f4WxND2jwFTI"
      }
    },
    {
      "cell_type": "code",
      "execution_count": 18,
      "metadata": {
        "id": "mCXWYLsAvTM5"
      },
      "outputs": [],
      "source": [
        "def greet(): #function name  # no parameter function\n",
        "    print('Hello! Students') #function body\n",
        "    print('How are you?')\n",
        "\n",
        "def greetwithmsg(msg):\n",
        "  print(msg)"
      ]
    },
    {
      "cell_type": "code",
      "source": [
        "greetwithmsg(\"this is my msg\") # this is function calling\n"
      ],
      "metadata": {
        "colab": {
          "base_uri": "https://localhost:8080/"
        },
        "id": "QwIngnZov7V-",
        "outputId": "b4856406-ba85-4c71-db73-cc4d17e3c27d"
      },
      "execution_count": 20,
      "outputs": [
        {
          "output_type": "stream",
          "name": "stdout",
          "text": [
            "this is my msg\n"
          ]
        }
      ]
    },
    {
      "cell_type": "code",
      "source": [
        "def add_numbers(num1, num2): # parameter are inside bracket and comma separated\n",
        "    print(num1 + num2)\n",
        "def diff_numbers(num1, num2):\n",
        "    print(num1 - num2)\n",
        "def mul_numbers(num1, num2):\n",
        "    print(num1 * num2)\n",
        "def div_numbers(num1, num2):\n",
        "    print(num1 / num2)\n",
        "\n",
        "number1 = int(input(\"Enter first number: \"))\n",
        "number2 = int(input(\"Enter second number: \"))\n",
        "\n",
        "operator = input(\"Enter operator: \")\n",
        "\n",
        "if operator == '+':\n",
        "    add_numbers(number1, number2)\n",
        "elif operator == '-':\n",
        "    diff_numbers(number1, number2)\n",
        "elif operator == '*':\n",
        "    mul_numbers(number1, number2)\n",
        "elif operator == '/':\n",
        "    div_numbers(number1, number2)\n",
        "else:\n",
        "    print(\"Invalid operator\")"
      ],
      "metadata": {
        "colab": {
          "base_uri": "https://localhost:8080/"
        },
        "id": "yBkpGimXwuuU",
        "outputId": "7268ca27-c875-4848-e61c-1dc06cc49ad0"
      },
      "execution_count": 21,
      "outputs": [
        {
          "output_type": "stream",
          "name": "stdout",
          "text": [
            "Enter first number: 12\n",
            "Enter second number: 2\n",
            "Enter operator: +\n",
            "14\n"
          ]
        }
      ]
    },
    {
      "cell_type": "code",
      "source": [
        "def add():\n",
        "  i = 10\n",
        "  j = 20\n",
        "  k = i + j\n",
        "  print(k)"
      ],
      "metadata": {
        "id": "4ccsPx39zGrg"
      },
      "execution_count": 22,
      "outputs": []
    },
    {
      "cell_type": "code",
      "source": [
        "add()"
      ],
      "metadata": {
        "colab": {
          "base_uri": "https://localhost:8080/"
        },
        "id": "1BTlRBpyzVdk",
        "outputId": "f0f50cf8-cfaf-4a51-9dfb-8eb913fd4950"
      },
      "execution_count": 23,
      "outputs": [
        {
          "output_type": "stream",
          "name": "stdout",
          "text": [
            "30\n"
          ]
        }
      ]
    },
    {
      "cell_type": "code",
      "source": [
        "def add2(i,j):\n",
        "  k = i + j\n",
        "  print(k)"
      ],
      "metadata": {
        "id": "_DcBFKYFzeuk"
      },
      "execution_count": 24,
      "outputs": []
    },
    {
      "cell_type": "code",
      "source": [
        "add2(20,30)"
      ],
      "metadata": {
        "colab": {
          "base_uri": "https://localhost:8080/"
        },
        "id": "7MjfHvWrznAc",
        "outputId": "66fb19c5-e127-4d4c-cf0e-bb29c84021a2"
      },
      "execution_count": 29,
      "outputs": [
        {
          "output_type": "stream",
          "name": "stdout",
          "text": [
            "50\n"
          ]
        }
      ]
    },
    {
      "cell_type": "code",
      "source": [
        "def add3(i,j):\n",
        "  k = i + j\n",
        "  return k\n",
        ""
      ],
      "metadata": {
        "id": "NXX3W-QD0WZE"
      },
      "execution_count": 31,
      "outputs": []
    },
    {
      "cell_type": "code",
      "source": [
        "result = add3(5,6)\n",
        "print(result)"
      ],
      "metadata": {
        "colab": {
          "base_uri": "https://localhost:8080/"
        },
        "id": "Vg5dS1HK0gNh",
        "outputId": "a0f67905-19b0-4eee-bd1f-ea3365c48972"
      },
      "execution_count": 33,
      "outputs": [
        {
          "output_type": "stream",
          "name": "stdout",
          "text": [
            "11\n"
          ]
        }
      ]
    },
    {
      "cell_type": "code",
      "source": [
        "def calculate_total_marks(marks_in_math,marks_in_science,marks_in_english,marks_in_computer):\n",
        "  total_marks = marks_in_math + marks_in_science + marks_in_english + marks_in_computer\n",
        "  return total_marks\n",
        "\n",
        "def calculate_percentage(total_marks):\n",
        "  percentage = (total_marks / 400) * 100\n",
        "  return percentage\n",
        "\n",
        "def display_result(student_name, total_marks, percentage):\n",
        "  print(student_name, \"has got\", total_marks, \"marks in total and peercentage \",percentage )\n"
      ],
      "metadata": {
        "id": "a1yCSiCp1goq"
      },
      "execution_count": 35,
      "outputs": []
    },
    {
      "cell_type": "code",
      "source": [
        "\n",
        "student_name = input(\"enter your name : \")\n",
        "\n",
        "marks_in_math = int(input(\"enter your marks in math : \"))\n",
        "marks_in_science = int(input(\"enter your marks in science : \"))\n",
        "marks_in_english = int(input(\"enter your marks in english: \"))\n",
        "marks_in_computer = int(input(\"enter your marks in computer: \"))\n",
        "\n",
        "total_marks = calculate_total_marks(marks_in_math,marks_in_science,marks_in_english,marks_in_computer)\n",
        "percentage = calculate_percentage(total_marks)\n",
        "display_result(student_name, total_marks, percentage)\n"
      ],
      "metadata": {
        "colab": {
          "base_uri": "https://localhost:8080/"
        },
        "id": "QuAvK9L53EUW",
        "outputId": "36c59504-67b5-4108-efb1-c1c680b08787"
      },
      "execution_count": 36,
      "outputs": [
        {
          "output_type": "stream",
          "name": "stdout",
          "text": [
            "enter your name : Israr\n",
            "enter your marks in math : 45\n",
            "enter your marks in science : 55\n",
            "enter your marks in english: 78\n",
            "enter your marks in computer: 99\n",
            "Israr has got 277 marks in total and peercentage  69.25\n"
          ]
        }
      ]
    },
    {
      "cell_type": "code",
      "source": [
        "def rectangle_area(length, width):\n",
        "    area = length * width\n",
        "    return area\n",
        "\n",
        "def print_area(length, width):\n",
        "    area = rectangle_area(length, width)\n",
        "    print(\"The area of the rectangle is\", area)\n",
        "\n",
        "length = float(input(\"Enter the length of the rectangle: \"))\n",
        "width = float(input(\"Enter the width of the rectangle: \"))\n",
        "\n",
        "print_area(length, width)"
      ],
      "metadata": {
        "colab": {
          "base_uri": "https://localhost:8080/"
        },
        "id": "4w1zXUdI3lff",
        "outputId": "a8b0ce97-cb62-4ce5-f80d-c20fd99595b2"
      },
      "execution_count": 39,
      "outputs": [
        {
          "output_type": "stream",
          "name": "stdout",
          "text": [
            "Enter the length of the rectangle: 5\n",
            "Enter the width of the rectangle: 3\n",
            "The area of the rectangle is 15.0\n"
          ]
        }
      ]
    },
    {
      "cell_type": "code",
      "source": [
        "def add(x,y): return x+y\n",
        "def subtract(x,y): return x-y\n",
        "def multiply(x,y): return x*y\n",
        "def divide(x,y): return x/y"
      ],
      "metadata": {
        "id": "IDwF9asG6pMR"
      },
      "execution_count": 42,
      "outputs": []
    },
    {
      "cell_type": "code",
      "source": [
        "a = int(input(\"Enter first number : \"))\n",
        "b = int(input(\"Enter second number : \"))\n",
        "\n",
        "print(\"Select operation: For Add [1], For Subtract [2], For Multiply [3], For Divide [4]\")\n",
        "choice = int(input(\"Enter choice (1/2/3/4) : \"))\n",
        "\n",
        "if choice == 1:\n",
        "  print(\"Result: \",add(a,b))\n",
        "elif choice == 2:\n",
        "  print(\"Result: \",subtract(a,b))\n",
        "elif choice == 3:\n",
        "  print(\"Result: \",multiply(a,b))\n",
        "elif choice == 4:\n",
        "  print(\"Result: \",divide(a,b))\n",
        "\n"
      ],
      "metadata": {
        "colab": {
          "base_uri": "https://localhost:8080/"
        },
        "id": "WW2r_th_5IJe",
        "outputId": "52fbb894-4744-4087-9442-9cb433485086"
      },
      "execution_count": 41,
      "outputs": [
        {
          "output_type": "stream",
          "name": "stdout",
          "text": [
            "Enter first number : 12\n",
            "Enter second number : 2\n",
            "Select operation: For Add [1], For Subtract [2], For Multiply [3], For Divide [4]\n",
            "Enter choice (1/2/3/4) : 3\n",
            "Result:  24\n"
          ]
        }
      ]
    }
  ]
}